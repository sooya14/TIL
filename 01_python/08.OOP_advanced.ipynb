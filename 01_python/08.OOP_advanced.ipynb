{
 "cells": [
  {
   "cell_type": "markdown",
   "metadata": {},
   "source": [
    "# OOP advanced"
   ]
  },
  {
   "cell_type": "markdown",
   "metadata": {},
   "source": [
    "## 클래스 변수와 인스턴스 변수\n",
    "\n",
    "### 클래스 변수\n",
    "* 클래스의 속성입니다.\n",
    "* 클래스 선언 블록 최상단에 위치합니다.\n",
    "* 모든 인스턴스가 공유합니다. => 하는 것이 아니라 하게 될수도 있다의 정도이다. \n",
    "* `Class.class_variable` 과 같이 접근/할당합니다.\n",
    "\n",
    "```python\n",
    "class TestClass:\n",
    "    \n",
    "    class_variable = '클래스변수'\n",
    "    ...\n",
    "\n",
    "TestClass.class_variable  # '클래스변수'\n",
    "TestClass.class_variable = 'class variable'  # 재할당을 하게 되면 변경된다. \n",
    "TestClass.class_variable  # 'class variable'\n",
    "\n",
    "tc = TestClass()\n",
    "tc.class_variable  \n",
    "# 인스턴스 => 클래스 => 전역 순서로 이름공간을 탐색하기 때문에, 접근하게 됩니다.\n",
    "```"
   ]
  },
  {
   "cell_type": "markdown",
   "metadata": {},
   "source": [
    "### 인스턴스 변수\n",
    "* 인스턴스의 속성입니다.\n",
    "* 각 인스턴스들의 고유한 변수입니다.\n",
    "* 메서드 정의에서 `self.instance_variable` 로 접근/할당합니다.\n",
    "* 인스턴스가 생성된 이후 `instance.instance_variable` 로 접근/할당합니다.\n",
    "\n",
    "\n",
    "```python\n",
    "class TestClass:\n",
    "    \n",
    "    def __init__(self, arg1, arg2):\n",
    "        self.instance_var1 = arg1    # 인스턴스 변수\n",
    "        self.instance_var2 = arg2\n",
    "\n",
    "    def status(self):\n",
    "        return self.instance_var1, self.instance_var2   \n",
    "\n",
    "    \n",
    "test_instance = TestClass(1, 2)\n",
    "test_instance.instance_var1  # 1\n",
    "test_instance.instance_var2  # 2\n",
    "test_instance.status()  # (1, 2)\n",
    "```"
   ]
  },
  {
   "cell_type": "code",
   "execution_count": 1,
   "metadata": {},
   "outputs": [],
   "source": [
    "# 확인해봅시다.\n",
    "class TestClass:\n",
    "    class_variable = '클래스변수'\n",
    "    \n",
    "    def __init__(self, arg1, arg2):\n",
    "        self.instance_var1 = arg1\n",
    "        self.instance_var2 = arg2\n",
    "        \n",
    "    def get_status(self):\n",
    "        return self.instance_var1, self.instance_var2"
   ]
  },
  {
   "cell_type": "code",
   "execution_count": 2,
   "metadata": {},
   "outputs": [
    {
     "name": "stdout",
     "output_type": "stream",
     "text": [
      "클래스변수\n",
      "CLASS VAR\n"
     ]
    }
   ],
   "source": [
    "# 클래스 변수에 접근/재할당해 봅시다.\n",
    "print(TestClass.class_variable)\n",
    "TestClass.class_variable = 'CLASS VAR'\n",
    "print(TestClass.class_variable)"
   ]
  },
  {
   "cell_type": "code",
   "execution_count": 4,
   "metadata": {},
   "outputs": [
    {
     "name": "stdout",
     "output_type": "stream",
     "text": [
      "인스턴스--변수\n"
     ]
    }
   ],
   "source": [
    "# 인스턴스를 생성하고 확인해 봅시다.\n",
    "test_instance = TestClass('인스턴스', '변수')\n",
    "print(test_instance.instance_var1, test_instance.instance_var2, sep='--')"
   ]
  },
  {
   "cell_type": "code",
   "execution_count": 6,
   "metadata": {},
   "outputs": [
    {
     "name": "stdout",
     "output_type": "stream",
     "text": [
      "변수명이--너무길다\n"
     ]
    },
    {
     "data": {
      "text/plain": [
       "'CLASS VAR'"
      ]
     },
     "execution_count": 6,
     "metadata": {},
     "output_type": "execute_result"
    }
   ],
   "source": [
    "# 인스턴스 변수를 재할당 해봅시다.\n",
    "test_instance.instance_var1 = '변수명이'\n",
    "test_instance.instance_var2 = '너무길다'\n",
    "print(test_instance.instance_var1, test_instance.instance_var2, sep='--')\n",
    "test_instance.class_variable  # 된다 != 한다 "
   ]
  },
  {
   "cell_type": "markdown",
   "metadata": {},
   "source": [
    "## 인스턴스 메서드 / 클래스 메서드 / 스태틱(정적) 메서드  => 행동\n",
    "\n",
    "### 인스턴스 메서드\n",
    "* 인스턴스가 사용할 메서드 입니다. => 인스턴스의 행동\n",
    "* 정의 위에 어떠한 데코레이터도 없으면, **자동으로** 인스턴스 메서드가 됩니다.\n",
    "* **첫 번째 인자로 `self` 를 받도록 정의합니다. 이 때, 자동으로 인스턴스 객체가 `self` 가 됩니다.** => 위에 아무말도 없으면 self\n",
    "\n",
    "```python\n",
    "class MyClass:\n",
    "    def instance_method_name(self, arg1, arg2, ...):\n",
    "        ...\n",
    "\n",
    "my_instance = MyClass()\n",
    "my_instance.instance_method_name(.., ..)  # 자동으로 첫 번째 인자로 인스턴스(my_instance)가 들어갑니다.\n",
    "```"
   ]
  },
  {
   "cell_type": "markdown",
   "metadata": {},
   "source": [
    "### 클래스 메서드\n",
    "* 클래스가 사용할 메서드 입니다.\n",
    "* 정의 위에 `@classmethod` 데코레이터를 사용합니다.\n",
    "* **첫 번째 인자로 클래스(`cls`) 를 받도록 정의합니다. 이 때, 자동으로 클래스 객체가 `cls` 가 됩니다.**\n",
    "\n",
    "```python\n",
    "class MyClass:\n",
    "    @classmethod\n",
    "    def class_method_name(cls, arg1, arg2, ...):\n",
    "        ...\n",
    "\n",
    "MyClass.class_method_name(.., ..)  # 자동으로 첫 번째 인자로 클래스(MyClass)가 들어갑니다.\n",
    "```"
   ]
  },
  {
   "cell_type": "markdown",
   "metadata": {},
   "source": [
    "### 스태틱(정적) 메서드\n",
    "* 클래스가 사용할 메서드 입니다.\n",
    "* 정의 위에 `@staticmethod` 데코레이터를 사용합니다.\n",
    "* 묵시적인 첫 번째 인자를 받지 않습니다. 즉, 인자 정의는 자유롭게 합니다. \n",
    "* **어떠한 인자도 자동으로 넘어가지 않습니다.**\n",
    "\n",
    "```python\n",
    "class MyClass:\n",
    "    @staticmethod\n",
    "    def static_method_name(arg1, arg2, ...):\n",
    "        ...\n",
    "\n",
    "MyClass.static_method_name(.., ..)  # 아무일도 자동으로 일어나지 않습니다.\n",
    "```"
   ]
  },
  {
   "cell_type": "code",
   "execution_count": 18,
   "metadata": {},
   "outputs": [],
   "source": [
    "class MyClass:\n",
    "    # 아무말도 안하면 자동으로  instance 가 할 행동 \n",
    "    def instance_method(self):  # self 는 반드시 작성! \n",
    "        return self\n",
    "    \n",
    "    \n",
    "    ######### 아래는 class\n",
    "    \n",
    "    @classmethod\n",
    "    def class_method(cls):  # cls 는 반드시 작성. => Myclass 가 자동으로 들어간 것이다. \n",
    "        return cls\n",
    "    \n",
    "    @staticmethod\n",
    "    def static_method():  # 인자는 자유롭게, 안써도 된다. / x 라고 적으면 뭐라도 인자를 넣어줘야한다. \n",
    "        return ':)'\n",
    "\n",
    "my_instance = MyClass()"
   ]
  },
  {
   "cell_type": "code",
   "execution_count": 11,
   "metadata": {},
   "outputs": [
    {
     "name": "stdout",
     "output_type": "stream",
     "text": [
      "2264137813128 2264137813128\n",
      "True\n"
     ]
    }
   ],
   "source": [
    "# 인스턴스 입장에서 확인해 봅시다.\n",
    "print(id(my_instance.instance_method()), id(my_instance))  \n",
    "print(my_instance == my_instance.instance_method())"
   ]
  },
  {
   "cell_type": "code",
   "execution_count": 14,
   "metadata": {},
   "outputs": [
    {
     "name": "stdout",
     "output_type": "stream",
     "text": [
      "2264109554392 2264109554392\n",
      "True\n"
     ]
    }
   ],
   "source": [
    "# 인스턴스는 클래스 매서드에 접근 가능 합니다. \n",
    "print(id(my_instance.class_method()), id(MyClass))\n",
    "print(my_instance.class_method() == MyClass)"
   ]
  },
  {
   "cell_type": "code",
   "execution_count": 19,
   "metadata": {},
   "outputs": [
    {
     "name": "stdout",
     "output_type": "stream",
     "text": [
      ":)\n"
     ]
    }
   ],
   "source": [
    "# 인스턴스는 스태틱 매서드에 접근 합니다. \n",
    "print(my_instance.static_method())  "
   ]
  },
  {
   "cell_type": "markdown",
   "metadata": {},
   "source": [
    "### 정리 1 - 인스턴스와 메서드\n",
    "- 인스턴스는, 3가지 메서드 모두에 접근할 수 있습니다.\n",
    "- 하지만 인스턴스에서 클래스메서드와 스태틱메서드는 호출하지 않아야 합니다. (가능하다. != 사용한다.)\n",
    "- **인스턴스가 할 행동은 모두 인스턴스 메서드로 한정 지어서 설계합니다.**\n",
    "---"
   ]
  },
  {
   "cell_type": "code",
   "execution_count": 23,
   "metadata": {},
   "outputs": [
    {
     "name": "stdout",
     "output_type": "stream",
     "text": [
      "2264109576104 2264109576104\n",
      "True\n",
      "True\n"
     ]
    }
   ],
   "source": [
    "# 클래스 입장에서 확인해 봅시다.\n",
    "print(id(MyClass.class_method()), id(MyClass))\n",
    "print(MyClass == MyClass.class_method())  # 클래스가 호출해도 cls 는 클래스\n",
    "print(MyClass == my_instance.class_method())  # 인스턴스가 호출해도 cls 는 클래스 "
   ]
  },
  {
   "cell_type": "code",
   "execution_count": 24,
   "metadata": {},
   "outputs": [
    {
     "data": {
      "text/plain": [
       "':)'"
      ]
     },
     "execution_count": 24,
     "metadata": {},
     "output_type": "execute_result"
    }
   ],
   "source": [
    "# 클래스용 매서드인 스태틱도 확입합시다. \n",
    "MyClass.static_method()"
   ]
  },
  {
   "cell_type": "code",
   "execution_count": 26,
   "metadata": {},
   "outputs": [
    {
     "ename": "TypeError",
     "evalue": "instance_method() missing 1 required positional argument: 'self'",
     "output_type": "error",
     "traceback": [
      "\u001b[1;31m---------------------------------------------------------------------------\u001b[0m",
      "\u001b[1;31mTypeError\u001b[0m                                 Traceback (most recent call last)",
      "\u001b[1;32m<ipython-input-26-0c82edf44718>\u001b[0m in \u001b[0;36m<module>\u001b[1;34m\u001b[0m\n\u001b[0;32m      1\u001b[0m \u001b[1;31m# 클래스는 인스턴스 매서드에 접근 합니다.\u001b[0m\u001b[1;33m\u001b[0m\u001b[1;33m\u001b[0m\u001b[1;33m\u001b[0m\u001b[0m\n\u001b[1;32m----> 2\u001b[1;33m \u001b[0mMyClass\u001b[0m\u001b[1;33m.\u001b[0m\u001b[0minstance_method\u001b[0m\u001b[1;33m(\u001b[0m\u001b[1;33m)\u001b[0m\u001b[1;33m\u001b[0m\u001b[1;33m\u001b[0m\u001b[0m\n\u001b[0m\u001b[0;32m      3\u001b[0m \u001b[1;31m# 접근이 안된다는 것은 호출이 안되었다는 것인데 호출은 가능하다. 그러나 self 자리에 누구를 넣어야하는지 모르는 것이다.\u001b[0m\u001b[1;33m\u001b[0m\u001b[1;33m\u001b[0m\u001b[1;33m\u001b[0m\u001b[0m\n\u001b[0;32m      4\u001b[0m \u001b[1;31m# 접근이 안되는 것은 아닌데 자동으로 채워지지 않는다.\u001b[0m\u001b[1;33m\u001b[0m\u001b[1;33m\u001b[0m\u001b[1;33m\u001b[0m\u001b[0m\n\u001b[0;32m      5\u001b[0m \u001b[0mmy_instance\u001b[0m\u001b[1;33m.\u001b[0m\u001b[0minstance_method\u001b[0m\u001b[1;33m(\u001b[0m\u001b[1;33m)\u001b[0m\u001b[1;33m\u001b[0m\u001b[1;33m\u001b[0m\u001b[0m\n",
      "\u001b[1;31mTypeError\u001b[0m: instance_method() missing 1 required positional argument: 'self'"
     ]
    }
   ],
   "source": [
    "# 클래스는 인스턴스 매서드에 접근은 가능하지만....  \n",
    "MyClass.instance_method()  \n",
    "# 접근이 안된다는 것은 호출이 안되었다는 것인데 호출은 가능하다. 그러나 self 자리에 누구를 넣어야하는지 모르는 것이다. \n",
    "# 접근이 안되는 것은 아닌데 자동으로 채워지지 않는다. \n",
    "\n",
    "MyClass.instance_method(my_instance)  # 이렇게 인스턴스를 채워주면 실행이 가능하다.   \n",
    "\n",
    "\n",
    "my_instance.instance_method()  # 인스턴스가 뭐인지 아니깐 실행이 된다. "
   ]
  },
  {
   "cell_type": "markdown",
   "metadata": {},
   "source": [
    "### 정리 2 - 클래스와 메서드\n",
    "- 클래스는, 3가지 메서드 모두에 접근할 수 있습니다.\n",
    "- 하지만 클래스에서 인스턴스메서드는 호출하지 않습니다. (가능하다. != 사용한다.)\n",
    "- 클래스가 할 행동은 다음 원칙에 따라 설계합니다.\n",
    "    - 클래스 자체(`cls`)와 그 속성에 접근할 필요가 있다면 클래스메서드로 정의합니다.\n",
    "    - 클래스와 클래스 속성에 접근할 필요가 없다면 스태틱메서드로 정의합니다.  \n",
    "    \n",
    "    => 실제로 코딩 작업에서 잘 사용하진 않는다. 개념적으로만 일단 알아둘것~\n",
    "---"
   ]
  },
  {
   "cell_type": "markdown",
   "metadata": {},
   "source": [
    "### 인스턴스메서드 / 클래스메서드 / 스태틱메서드 자세히 살펴보기"
   ]
  },
  {
   "cell_type": "code",
   "execution_count": 1,
   "metadata": {},
   "outputs": [],
   "source": [
    "# Puppy class를 만들어보겠습니다.\n",
    "# 클래스 변수 num_of_dogs 통해 개가 생성될 때마다 증가시키도록 하겠습니다.\n",
    "# 그리고 bark() 메서드를 통해 짖을 수 있습니다. \n",
    "\n",
    "class Puppy:\n",
    "    num_of_dogs = 0\n",
    "    \n",
    "    def __init__(self, name, breed):\n",
    "        self.name = name\n",
    "        self.breed = breed\n",
    "        Puppy.num_of_dogs += 1\n",
    "        \n",
    "    def __del__(self):\n",
    "        Puppy.num_of_dogs -= 1\n",
    "        \n",
    "    \n",
    "    def bark(self):\n",
    "        return 'wal'"
   ]
  },
  {
   "cell_type": "code",
   "execution_count": 2,
   "metadata": {},
   "outputs": [
    {
     "name": "stdout",
     "output_type": "stream",
     "text": [
      "wal wal wal\n"
     ]
    },
    {
     "data": {
      "text/plain": [
       "3"
      ]
     },
     "execution_count": 2,
     "metadata": {},
     "output_type": "execute_result"
    }
   ],
   "source": [
    "# 각각 이름과 종이 다른 인스턴스를 3개 만들어봅시다.\n",
    "pp1 = Puppy('초코', '푸들')\n",
    "pp2 = Puppy('코초', '말티즈')\n",
    "pp3 = Puppy('초초', '시츄')\n",
    "\n",
    "print(pp1.bark(), pp2.bark(), pp3.bark())\n",
    "Puppy.num_of_dogs"
   ]
  },
  {
   "cell_type": "code",
   "execution_count": 3,
   "metadata": {},
   "outputs": [
    {
     "data": {
      "text/plain": [
       "0"
      ]
     },
     "execution_count": 3,
     "metadata": {},
     "output_type": "execute_result"
    }
   ],
   "source": [
    "Puppy.num_of_dogs\n",
    "pp1 = pp2 = pp3 = 1\n",
    "Puppy.num_of_dogs"
   ]
  },
  {
   "cell_type": "code",
   "execution_count": 4,
   "metadata": {},
   "outputs": [
    {
     "ename": "TypeError",
     "evalue": "bark() missing 1 required positional argument: 'self'",
     "output_type": "error",
     "traceback": [
      "\u001b[1;31m---------------------------------------------------------------------------\u001b[0m",
      "\u001b[1;31mTypeError\u001b[0m                                 Traceback (most recent call last)",
      "\u001b[1;32m<ipython-input-4-0e1b651c9650>\u001b[0m in \u001b[0;36m<module>\u001b[1;34m\u001b[0m\n\u001b[0;32m      1\u001b[0m \u001b[1;31m# Puppy 클래스는 짖을 수 있을까요?\u001b[0m\u001b[1;33m\u001b[0m\u001b[1;33m\u001b[0m\u001b[1;33m\u001b[0m\u001b[0m\n\u001b[1;32m----> 2\u001b[1;33m \u001b[0mPuppy\u001b[0m\u001b[1;33m.\u001b[0m\u001b[0mbark\u001b[0m\u001b[1;33m(\u001b[0m\u001b[1;33m)\u001b[0m\u001b[1;33m\u001b[0m\u001b[1;33m\u001b[0m\u001b[0m\n\u001b[0m",
      "\u001b[1;31mTypeError\u001b[0m: bark() missing 1 required positional argument: 'self'"
     ]
    }
   ],
   "source": [
    "# Puppy 클래스는 짖을 수 있을까요?\n",
    "Puppy.bark()"
   ]
  },
  {
   "cell_type": "markdown",
   "metadata": {},
   "source": [
    "* 클래스메서드는 다음과 같이 정의됩니다.\n",
    "\n",
    "```python\n",
    "\n",
    "@classmethod\n",
    "def methodname(cls):\n",
    "    codeblock\n",
    "```"
   ]
  },
  {
   "cell_type": "code",
   "execution_count": 2,
   "metadata": {},
   "outputs": [],
   "source": [
    "# Doggy 클래스를 정의하고 속성에 접근하는 클래스메서드를 생성해 보겠습니다.\n",
    "class Doggy:\n",
    "    num_of_dogs = 0  # 현재 있는 강아지의 수 \n",
    "    birth_of_dogs = 0  # 역대 존재했던 모든 강아지의 수 \n",
    "    \n",
    "    def __init__(self, name, breed):\n",
    "        self.name = name\n",
    "        self.breed = breed\n",
    "        Doggy.num_of_dogs += 1\n",
    "        Doggy.birth_of_dogs += 1\n",
    "        \n",
    "    def __del__(self):\n",
    "        Doggy.num_of_dogs -= 1      \n",
    "    \n",
    "    def bark(self):\n",
    "        return 'wal'\n",
    "        \n",
    "    @classmethod\n",
    "    def get_status(cls):\n",
    "        return f'Birth: {cls.birth_of_dogs}, Current: {cls.num_of_dogs}'\n",
    "    "
   ]
  },
  {
   "cell_type": "code",
   "execution_count": 25,
   "metadata": {},
   "outputs": [
    {
     "data": {
      "text/plain": [
       "<__main__.Doggy at 0x1b8ce6027b8>"
      ]
     },
     "execution_count": 25,
     "metadata": {},
     "output_type": "execute_result"
    }
   ],
   "source": [
    "Doggy('dd', 'dog')\n",
    "1\n",
    "[]\n",
    "'asf'  ## => 4가지 모두 무의미한 코드이다. 사용하면 안된다. \n"
   ]
  },
  {
   "cell_type": "code",
   "execution_count": 3,
   "metadata": {},
   "outputs": [],
   "source": [
    "# Doggy 인스턴스 3 마리를 만들어보고,\n",
    "dg1 = Doggy('초코', '푸들')\n",
    "dg2 = Doggy('코초', '말티즈')\n",
    "dg3 = Doggy('초초', '시츄')\n"
   ]
  },
  {
   "cell_type": "code",
   "execution_count": 4,
   "metadata": {},
   "outputs": [
    {
     "data": {
      "text/plain": [
       "'Birth: 3, Current: 3'"
      ]
     },
     "execution_count": 4,
     "metadata": {},
     "output_type": "execute_result"
    }
   ],
   "source": [
    "# 함수를 호출해봅시다.\n",
    "Doggy.get_status()"
   ]
  },
  {
   "cell_type": "code",
   "execution_count": null,
   "metadata": {},
   "outputs": [],
   "source": [
    "class Employee:\n",
    "    \n",
    "    increase_rate = 1.1\n",
    "    \n",
    "    def __init__(self, e_id, name, salary):\n",
    "        self.id = e_id\n",
    "        self.name = name\n",
    "        self.salary = salary\n",
    "    \n",
    "    @classmethod\n",
    "    def set_rate(cls, 물가상승률, 회사전기순익):  # 외부요소들을 넣으면 알아서 increase_rate 가 변동이 된다. \n",
    "        \n",
    "        cls.increase = .....\n",
    "        "
   ]
  },
  {
   "cell_type": "markdown",
   "metadata": {},
   "source": [
    "* 스태틱메서드는 다음과 같이 정의됩니다.\n",
    "\n",
    "```python\n",
    "\n",
    "@staticmethod\n",
    "def methodname():\n",
    "    codeblock\n",
    "```"
   ]
  },
  {
   "cell_type": "code",
   "execution_count": 5,
   "metadata": {},
   "outputs": [],
   "source": [
    "# Dog 클래스를 정의하고 어떠한 속성에도 접근하지 않는 스태틱메서드를 만들어보겠습니다.\n",
    "class Dog:\n",
    "    num_of_dogs = 0  # 현재 있는 강아지의 수 \n",
    "    birth_of_dogs = 0  # 역대 존재했던 모든 강아지의 수 \n",
    "    \n",
    "    def __init__(self, name, breed):\n",
    "        self.name = name\n",
    "        self.breed = breed\n",
    "        Dog.num_of_dogs += 1\n",
    "        Dog.birth_of_dogs += 1\n",
    "        \n",
    "    def __del__(self):\n",
    "        Dog.num_of_dogs -= 1      \n",
    "    \n",
    "    def bark(self):\n",
    "        return 'wal'\n",
    "        \n",
    "    @classmethod\n",
    "    def get_status(cls):\n",
    "        return f'Birth: {cls.birth_of_dogs}, Current: {cls.num_of_dogs}'\n",
    "    \n",
    "    @staticmethod  \n",
    "    def get_class_info():\n",
    "        return 'class Dog'"
   ]
  },
  {
   "cell_type": "code",
   "execution_count": 6,
   "metadata": {
    "scrolled": true
   },
   "outputs": [
    {
     "data": {
      "text/plain": [
       "'class Dog'"
      ]
     },
     "execution_count": 6,
     "metadata": {},
     "output_type": "execute_result"
    }
   ],
   "source": [
    "# 함수를 호출해봅시다.\n",
    "Dog.get_class_info()"
   ]
  },
  {
   "cell_type": "markdown",
   "metadata": {},
   "source": [
    "## 실습 - 스태틱(정적) 메서드\n",
    "\n",
    "> 계산기 class인 `Calculator`를 만들어봅시다.\n",
    "\n",
    "* 다음과 같이 정적 메서드를 구성한다. \n",
    "* 모든 정적 메서드는, 두 수를 받아서 각각의 연산을 한 결과를 리턴한다.\n",
    "* `a` 연산자 `b` 의 순서로 연산한다. (`a - b`, `a / b`)\n",
    "    1. `add(a, b)` : 덧셈\n",
    "    2. `sub(a, b)` : 뺄셈 \n",
    "    3. `mul(a, b)` : 곱셈\n",
    "    4. `div(a, b)` : 나눗셈"
   ]
  },
  {
   "cell_type": "code",
   "execution_count": 9,
   "metadata": {},
   "outputs": [],
   "source": [
    "# 아래에 코드를 작성해주세요.\n",
    "\n",
    "class Calculator:\n",
    "    @staticmethod\n",
    "    def add(a, b):\n",
    "        return a + b\n",
    "    \n",
    "    @staticmethod\n",
    "    def sub(a, b):\n",
    "        return a - b\n",
    "    \n",
    "    @staticmethod\n",
    "    def mul(a, b):\n",
    "        return a * b\n",
    "    \n",
    "    @staticmethod\n",
    "    def div(a, b):\n",
    "        return a / b\n",
    "    \n"
   ]
  },
  {
   "cell_type": "code",
   "execution_count": 11,
   "metadata": {},
   "outputs": [
    {
     "data": {
      "text/plain": [
       "-1"
      ]
     },
     "execution_count": 11,
     "metadata": {},
     "output_type": "execute_result"
    }
   ],
   "source": [
    "# 정적 메서드를 호출해보세요.\n",
    "Calculator.add(1, 2)  # 3\n",
    "Calculator.sub(1, 2)  # -1"
   ]
  },
  {
   "cell_type": "markdown",
   "metadata": {},
   "source": [
    "## 연산자 오버로딩(중복 정의)\n",
    "> operator overloading\n",
    "\n",
    "* 파이썬에 기본적으로 정의된 연산자를 직접적으로 정의하여 활용할 수 있습니다. \n",
    "\n",
    "* 몇 가지만 소개하고 활용해봅시다.\n",
    "\n",
    "* 파이썬에서 오버로딩이라고 하면 그냥 연산자 오버로딩으로 생각하면 된다. => 중복으로 또다른 연산자를 만드는 것이다. \n",
    "\n",
    "```\n",
    "+  __add__   \n",
    "-  __sub__\n",
    "*  __mul__\n",
    "<  __lt__\n",
    "<= __le__\n",
    "== __eq__\n",
    "!= __ne__\n",
    ">= __ge__\n",
    ">  __gt__\n",
    "```\n",
    "\n",
    "### ☆ Python => 모든 것이 객체고, 객체간의 상호작용은 모두 메서드를 통해 이루어진다. \n"
   ]
  },
  {
   "cell_type": "code",
   "execution_count": 15,
   "metadata": {},
   "outputs": [
    {
     "data": {
      "text/plain": [
       "False"
      ]
     },
     "execution_count": 15,
     "metadata": {},
     "output_type": "execute_result"
    }
   ],
   "source": [
    "# python => 모든 것이 객체고, 객체간의 상호작용은 모두 메서드를 통해 이루어진다. \n",
    "n = (1).__add__(3)\n",
    "s = 'a'.__add__('s')\n",
    "l = [1].__add__(['x'])\n",
    "\n",
    "[1, 2, 3] < [1, 2]  # 리스트를 가능하도록 설정을 해놓을 것이다. "
   ]
  },
  {
   "cell_type": "code",
   "execution_count": 20,
   "metadata": {},
   "outputs": [
    {
     "name": "stdout",
     "output_type": "stream",
     "text": [
      "내가 청년 보다 나이가 많다.\n",
      "내가 노인 보다 어리다.\n"
     ]
    },
    {
     "data": {
      "text/plain": [
       "False"
      ]
     },
     "execution_count": 20,
     "metadata": {},
     "output_type": "execute_result"
    }
   ],
   "source": [
    "# 사람과 사람을 같은지 비교하면, 이는 나이가 같은지 비교한 결과를 반환하도록 만들어봅시다.\n",
    "class Person:\n",
    "    def __init__(self, name, age):\n",
    "        self.name = name\n",
    "        self.age = age\n",
    "        \n",
    "    def __gt__(self, other):\n",
    "        if self.age > other.age:\n",
    "            print(f'내가 {other.name} 보다 나이가 많다.')\n",
    "            return True\n",
    "        else:\n",
    "            print(f'내가 {other.name} 보다 어리다.')\n",
    "            return False\n",
    "        \n",
    "p1 = Person('노인', 100)\n",
    "p2 = Person('청년', 50)\n",
    "\n",
    "p1.__gt__(p2)\n",
    "p1 < p2  # 반대 방향도 자동으로 출력이 된다. <, > 같으 묶여있기 때문에 하나만 정의해줘도 반대쪽도 작동할 수 있다. "
   ]
  },
  {
   "cell_type": "code",
   "execution_count": null,
   "metadata": {},
   "outputs": [],
   "source": [
    "# 연산자를 호출해 봅시다."
   ]
  },
  {
   "cell_type": "markdown",
   "metadata": {},
   "source": [
    "# 상속 \n",
    "\n",
    "## 기초\n",
    "\n",
    "* 클래스에서 가장 큰 특징은 '상속' 기능을 가지고 있다는 것입니다. \n",
    "\n",
    "* 부모 클래스의 모든 속성이 자식 클래스에게 상속 되므로 코드 재사용성이 높아집니다.\n",
    "\n",
    "```python\n",
    "class DerivedClassName(BaseClassName):\n",
    "    code block\n",
    "```"
   ]
  },
  {
   "cell_type": "code",
   "execution_count": 23,
   "metadata": {},
   "outputs": [
    {
     "name": "stdout",
     "output_type": "stream",
     "text": [
      "반갑습니다, 사람 입니다.\n"
     ]
    }
   ],
   "source": [
    "# 인사만 할 수 있는 간단한 Person 클래스를 만들어봅시다.\n",
    "class Person:\n",
    "    population = 0\n",
    "    \n",
    "    def __init__(self, name='사람'):\n",
    "        self.name = name\n",
    "        Person.population += 1\n",
    "        \n",
    "    def greeting(self):\n",
    "        print(f'반갑습니다, {self.name} 입니다.')\n",
    "        \n",
    "p = Person()\n",
    "p.greeting()"
   ]
  },
  {
   "cell_type": "code",
   "execution_count": 29,
   "metadata": {},
   "outputs": [],
   "source": [
    "# Person 클래스를 상속받아 Student 클래스를 만들어봅시다.\n",
    "class Student(Person):\n",
    "    # 독자적으로 만드는 순간 위의 __init__이 씹히게 된다. 그래서 따로 설정해줘야한다.\n",
    "    def __init__(self, student_id, name='학생'):  \n",
    "        self.name = name\n",
    "        self.student_id = student_id\n",
    "        Person.population += 1 \n",
    "    \n",
    "    def study(self, subject):\n",
    "        return f'{subject}를 공부합니다.'\n",
    "    \n"
   ]
  },
  {
   "cell_type": "code",
   "execution_count": 33,
   "metadata": {},
   "outputs": [
    {
     "data": {
      "text/plain": [
       "'python를 공부합니다.'"
      ]
     },
     "execution_count": 33,
     "metadata": {},
     "output_type": "execute_result"
    }
   ],
   "source": [
    "# 학생을 만들어봅시다.\n",
    "    \n",
    "s = Student(123, '김싸피')\n",
    "s.study('python')\n"
   ]
  },
  {
   "cell_type": "code",
   "execution_count": 34,
   "metadata": {},
   "outputs": [
    {
     "name": "stdout",
     "output_type": "stream",
     "text": [
      "반갑습니다, 김싸피 입니다.\n"
     ]
    },
    {
     "data": {
      "text/plain": [
       "7"
      ]
     },
     "execution_count": 34,
     "metadata": {},
     "output_type": "execute_result"
    }
   ],
   "source": [
    "# 부모 클래스에 정의된 메서드를 호출 할 수 있습니다.\n",
    "s.greeting()\n",
    "Student.population"
   ]
  },
  {
   "cell_type": "markdown",
   "metadata": {},
   "source": [
    "* 이처럼 상속은 공통된 속성이나 메서드를 부모 클래스에 정의하고, 이를 상속받아 다양한 형태의 사람들을 만들 수 있습니다."
   ]
  },
  {
   "cell_type": "code",
   "execution_count": 36,
   "metadata": {},
   "outputs": [
    {
     "data": {
      "text/plain": [
       "True"
      ]
     },
     "execution_count": 36,
     "metadata": {},
     "output_type": "execute_result"
    }
   ],
   "source": [
    "# 진짜 상속관계인지 확인해봅시다. (클래스 간의)\n",
    "issubclass(Student, Person)  # Student는 진짜 Person의 서브 클래스입니까?"
   ]
  },
  {
   "cell_type": "code",
   "execution_count": 37,
   "metadata": {},
   "outputs": [
    {
     "data": {
      "text/plain": [
       "True"
      ]
     },
     "execution_count": 37,
     "metadata": {},
     "output_type": "execute_result"
    }
   ],
   "source": [
    "isinstance(s, Student)  # s 는 스튜던트의 인스턴스인가요?\n",
    "isinstance(s, Person)  # s 는 할아버지의 자식이기도 하다... "
   ]
  },
  {
   "cell_type": "markdown",
   "metadata": {},
   "source": [
    "## super()\n",
    "\n",
    "* 자식 클래스에 메서드를 추가로 구현할 수 있습니다.\n",
    "\n",
    "* 부모 클래스의 내용을 사용하고자 할 때, `super()`를 사용할 수 있습니다.\n",
    "\n",
    "```python\n",
    "class BabyClass(ParentClass):\n",
    "    def method(self, arg):\n",
    "        super().method(arg) \n",
    "```"
   ]
  },
  {
   "cell_type": "code",
   "execution_count": null,
   "metadata": {},
   "outputs": [],
   "source": [
    "class Person:\n",
    "    def __init__(self, name, age, number, email):\n",
    "        self.name = name\n",
    "        self.age = age\n",
    "        self.number = number\n",
    "        self.email = email\n",
    "        \n",
    "    def introduce(self):\n",
    "        return f'나는 {self.name} 이다'\n",
    "    \n",
    "class Student(Person):\n",
    "    def __init__(self, name, age, number, email, student_id):\n",
    "        self.name = name\n",
    "        self.age = age\n",
    "        self.number = number\n",
    "        self.email = email\n",
    "        self.student_id = student_id\n",
    "        \n",
    "        "
   ]
  },
  {
   "cell_type": "markdown",
   "metadata": {},
   "source": [
    "* 위의 코드를 보면, 상속을 했음에도 불구하고 동일한 코드가 반복됩니다. "
   ]
  },
  {
   "cell_type": "code",
   "execution_count": 39,
   "metadata": {},
   "outputs": [
    {
     "data": {
      "text/plain": [
       "(1, 2, 3, 4)"
      ]
     },
     "execution_count": 39,
     "metadata": {},
     "output_type": "execute_result"
    }
   ],
   "source": [
    "# 이를 수정해봅시다.\n",
    "class Person:\n",
    "    def __init__(self, name, age, number, email):\n",
    "        self.name = name\n",
    "        self.age = age\n",
    "        self.number = number\n",
    "        self.email = email\n",
    "        \n",
    "    def introduce(self):\n",
    "        return f'나는 {self.name} 이다'\n",
    "    \n",
    "class Student(Person):\n",
    "    def __init__(self, name, age, number, email, student_id):\n",
    "         # Person 의 코드만 가지고 온 것이다. 실행하고 있는 것이기 때문에 self가 ㄴㄴ => 복붙이랑 똑같은 것이다. \n",
    "        super().__init__(name, age, number, email) \n",
    "        self.student_id = student_id\n",
    "       \n",
    "    \n",
    "s = Student(1, 2, 3, 4, 5)\n",
    "s.name, s.age, s.number, s.email"
   ]
  },
  {
   "cell_type": "markdown",
   "metadata": {},
   "source": [
    "## 메서드 오버라이딩(재정의) = 덮어쓰기\n",
    "> method overriding\n",
    "\n",
    "* 메서드를 재정의할 수도 있습니다.\n",
    "* 상속 받은 클래스에서 메서드를 덮어씁니다."
   ]
  },
  {
   "cell_type": "code",
   "execution_count": 41,
   "metadata": {},
   "outputs": [],
   "source": [
    "# Person 클래스의 상속을 받아 군인처럼 인사하는 Soldier 클래스를 만들어봅시다.\n",
    "\n",
    "class Soldier(Person):\n",
    "    def __init__(self, name, age, number, email, rank):\n",
    "        super().__init__(name, age, number, email)  # 쓰는 것이니깐 self 는 자동으로 씌워져있다. \n",
    "        self.rank = rank\n",
    "        \n",
    "    def introduce(self):\n",
    "        return f'충성! {self.rank} {\" \".join(self.name)}'"
   ]
  },
  {
   "cell_type": "code",
   "execution_count": 43,
   "metadata": {},
   "outputs": [
    {
     "data": {
      "text/plain": [
       "'충성! 하사 굳 건 이'"
      ]
     },
     "execution_count": 43,
     "metadata": {},
     "output_type": "execute_result"
    }
   ],
   "source": [
    "s = Soldier('굳건이', 25, '0101234', 'soldier@roka.kr', '하사')\n",
    "s.introduce()"
   ]
  },
  {
   "cell_type": "markdown",
   "metadata": {},
   "source": [
    "## 상속관계에서의 이름공간\n",
    "\n",
    "* 기존에 인스턴스 -> 클래스 순으로 이름 공간을 탐색해나가는 과정에서 상속관계에 있으면 아래와 같이 확장됩니다.\n",
    "\n",
    "* 인스턴스 -> 클래스 -> 전역\n",
    "* 인스턴스 -> 자식 클래스 -> 부모 클래스 -> 전역"
   ]
  },
  {
   "cell_type": "markdown",
   "metadata": {},
   "source": [
    "## 실습 1 \n",
    "\n",
    "> 위에서 Person 클래스를 상속받는 Student 클래스를 만들어 봤습니다.\n",
    ">\n",
    ">이번에는 Person 클래스를 상속받는 Teacher 클래스를 만들어보고 Student와 Teacher 클래스에 각각 다른 행동의 메서드들을 하나씩 추가해봅시다."
   ]
  },
  {
   "cell_type": "code",
   "execution_count": null,
   "metadata": {},
   "outputs": [],
   "source": [
    "# 아래에 코드를 작성해주세요."
   ]
  },
  {
   "cell_type": "markdown",
   "metadata": {},
   "source": [
    "## 실습 2\n",
    "\n",
    "> 사실 사람은 포유류입니다. \n",
    ">\n",
    "> Animal Class를 만들고, Person클래스가 상속받도록 구성해봅시다.\n",
    ">\n",
    "> 변수나, 메서드는 자유롭게 만들어봅시다."
   ]
  },
  {
   "cell_type": "code",
   "execution_count": null,
   "metadata": {},
   "outputs": [],
   "source": [
    "# 아래에 코드를 작성해주세요."
   ]
  },
  {
   "cell_type": "markdown",
   "metadata": {},
   "source": [
    "## 다중 상속\n",
    "두개 이상의 클래스를 상속받는 경우, 다중 상속이 됩니다."
   ]
  },
  {
   "cell_type": "code",
   "execution_count": 55,
   "metadata": {},
   "outputs": [],
   "source": [
    "# Person 클래스를 정의합니다.\n",
    "class Person:\n",
    "    def __init__(self, name):\n",
    "        self.name = name\n",
    "        \n",
    "    def breath(self):\n",
    "        return '후하'\n",
    "    \n",
    "    def greeting(self):\n",
    "        return f'hi, i am {self.name}'"
   ]
  },
  {
   "cell_type": "code",
   "execution_count": 56,
   "metadata": {},
   "outputs": [],
   "source": [
    "# Mom 클래스를 정의합니다.\n",
    "class Mom(Person):\n",
    "    gene = 'XX'\n",
    "    \n",
    "    def swim(self):\n",
    "        return '첨벙첨벙'"
   ]
  },
  {
   "cell_type": "code",
   "execution_count": 57,
   "metadata": {},
   "outputs": [],
   "source": [
    "# Dad 클래스를 정의합니다.\n",
    "class Dad(Person):\n",
    "    gene = 'XY'\n",
    "    \n",
    "    def walk(self):\n",
    "        return '성큼성큼'\n",
    "    "
   ]
  },
  {
   "cell_type": "code",
   "execution_count": 58,
   "metadata": {},
   "outputs": [],
   "source": [
    "class Child:\n",
    "    def cry(self):\n",
    "        return '응애'\n"
   ]
  },
  {
   "cell_type": "code",
   "execution_count": 59,
   "metadata": {},
   "outputs": [],
   "source": [
    "# FirstChild 클래스를 정의합니다.\n",
    "class FirstChild(Dad, Mom, Child):  \n",
    "    # Mom class Override\n",
    "    def swim(self):\n",
    "        return '챱챱'\n",
    "    \n",
    "    # FirstChild only method\n",
    "    def cry(self):\n",
    "        return '응애'"
   ]
  },
  {
   "cell_type": "code",
   "execution_count": 60,
   "metadata": {},
   "outputs": [],
   "source": [
    "# FirstChild 의 인스턴스 객체를 확인합니다.\n",
    "fc = FirstChild('수경')"
   ]
  },
  {
   "cell_type": "code",
   "execution_count": 61,
   "metadata": {},
   "outputs": [
    {
     "data": {
      "text/plain": [
       "'응애'"
      ]
     },
     "execution_count": 61,
     "metadata": {},
     "output_type": "execute_result"
    }
   ],
   "source": [
    "# cry 메서드를 실행합니다.\n",
    "fc.cry()"
   ]
  },
  {
   "cell_type": "code",
   "execution_count": 62,
   "metadata": {},
   "outputs": [
    {
     "data": {
      "text/plain": [
       "'챱챱'"
      ]
     },
     "execution_count": 62,
     "metadata": {},
     "output_type": "execute_result"
    }
   ],
   "source": [
    "# swim 메서드를 실행합니다.\n",
    "fc.swim()"
   ]
  },
  {
   "cell_type": "code",
   "execution_count": 63,
   "metadata": {},
   "outputs": [
    {
     "data": {
      "text/plain": [
       "'성큼성큼'"
      ]
     },
     "execution_count": 63,
     "metadata": {},
     "output_type": "execute_result"
    }
   ],
   "source": [
    "# walk 메서드를 실행합니다.\n",
    "fc.walk()"
   ]
  },
  {
   "cell_type": "code",
   "execution_count": 74,
   "metadata": {},
   "outputs": [
    {
     "data": {
      "text/plain": [
       "'XY'"
      ]
     },
     "execution_count": 74,
     "metadata": {},
     "output_type": "execute_result"
    }
   ],
   "source": [
    "# gene 은 누구의 속성을 참조할까요?\n",
    "fc.gene"
   ]
  },
  {
   "cell_type": "code",
   "execution_count": 66,
   "metadata": {},
   "outputs": [],
   "source": [
    "# 그렇다면 상속 순서를 바꿔봅시다.\n",
    "\n",
    "class SecondChild(Mom, Dad, Child):\n",
    "    def walk(self):  # Dad의 walk override\n",
    "        return '아장아장'\n"
   ]
  },
  {
   "cell_type": "code",
   "execution_count": 67,
   "metadata": {},
   "outputs": [],
   "source": [
    "# SecondChild 의 인스턴스 객체를 확인합니다.\n",
    "sc = SecondChild('성욱이')"
   ]
  },
  {
   "cell_type": "code",
   "execution_count": 70,
   "metadata": {},
   "outputs": [
    {
     "data": {
      "text/plain": [
       "'응애'"
      ]
     },
     "execution_count": 70,
     "metadata": {},
     "output_type": "execute_result"
    }
   ],
   "source": [
    "# cry메서드를 실행합니다.\n",
    "sc.cry()"
   ]
  },
  {
   "cell_type": "code",
   "execution_count": 71,
   "metadata": {},
   "outputs": [
    {
     "data": {
      "text/plain": [
       "'아장아장'"
      ]
     },
     "execution_count": 71,
     "metadata": {},
     "output_type": "execute_result"
    }
   ],
   "source": [
    "# walk 메서드를 실행합니다.\n",
    "sc.walk()"
   ]
  },
  {
   "cell_type": "code",
   "execution_count": 72,
   "metadata": {},
   "outputs": [
    {
     "data": {
      "text/plain": [
       "'첨벙첨벙'"
      ]
     },
     "execution_count": 72,
     "metadata": {},
     "output_type": "execute_result"
    }
   ],
   "source": [
    "# swim 메서드를 실행합니다.\n",
    "sc.swim()"
   ]
  },
  {
   "cell_type": "code",
   "execution_count": 75,
   "metadata": {},
   "outputs": [
    {
     "data": {
      "text/plain": [
       "'XX'"
      ]
     },
     "execution_count": 75,
     "metadata": {},
     "output_type": "execute_result"
    }
   ],
   "source": [
    "# gene 은 누구의 속성을 참조할까요?\n",
    "sc.gene  # 우선순위가 앞에서 부터 내려와있기 때문이다. "
   ]
  },
  {
   "cell_type": "markdown",
   "metadata": {},
   "source": [
    "## 포켓몬 구현하기\n",
    "\n",
    "> 포켓몬을 상속하는 이상해씨, 파이리, 꼬부기를 구현해 봅시다. 게임을 만든다면 아래와 같이 먼저 기획을 하고 코드로 구현하게 됩니다.\n",
    "우선 아래와 같이 구현해 보고, 추가로 본인이 원하는 대로 구현 및 수정해 봅시다.\n",
    "\n",
    "모든 포켓몬은 다음과 같은 속성을 갖습니다.\n",
    "* `name`: 이름\n",
    "* `level`: 레벨\n",
    "    * 레벨은 시작할 때 모두 5 입니다.\n",
    "* `hp`: 체력\n",
    "    * 체력은 `level` * 20 입니다.\n",
    "* `exp`: 경험치\n",
    "    * 상대방을 쓰러뜨리면 상대방 `level` * 15 를 획득합니다.\n",
    "    * 경험치는 `level` * 100 이 되면, 레벨이 하나 올라가고 0부터 추가 됩니다. \n",
    "\n",
    "이후 이상해씨, 파이리, 꼬부기는 포켓몬을 상속하여 자유롭게 구현해 봅시다.\n",
    "\n",
    "추가적으로 \n",
    "\n",
    "* 포켓몬 => 물포켓몬 => 꼬부기 \n",
    "* 포켓몬 => 물포켓몬 => 잉어킹\n",
    "* 포켓몬 => 비행포켓몬, 불포켓몬 => 파이어\n",
    "\n",
    "와 같이 다양한 추가 상속관계도 구현해 봅시다."
   ]
  }
 ],
 "metadata": {
  "kernelspec": {
   "display_name": "Python 3",
   "language": "python",
   "name": "python3"
  },
  "language_info": {
   "codemirror_mode": {
    "name": "ipython",
    "version": 3
   },
   "file_extension": ".py",
   "mimetype": "text/x-python",
   "name": "python",
   "nbconvert_exporter": "python",
   "pygments_lexer": "ipython3",
   "version": "3.7.3"
  },
  "latex_envs": {
   "LaTeX_envs_menu_present": true,
   "autoclose": false,
   "autocomplete": true,
   "bibliofile": "biblio.bib",
   "cite_by": "apalike",
   "current_citInitial": 1,
   "eqLabelWithNumbers": true,
   "eqNumInitial": 1,
   "hotkeys": {
    "equation": "Ctrl-E",
    "itemize": "Ctrl-I"
   },
   "labels_anchors": false,
   "latex_user_defs": false,
   "report_style_numbering": false,
   "user_envs_cfg": false
  },
  "toc": {
   "base_numbering": 1,
   "nav_menu": {},
   "number_sections": true,
   "sideBar": true,
   "skip_h1_title": false,
   "title_cell": "Table of Contents",
   "title_sidebar": "Contents",
   "toc_cell": false,
   "toc_position": {
    "height": "calc(100% - 180px)",
    "left": "10px",
    "top": "150px",
    "width": "165px"
   },
   "toc_section_display": true,
   "toc_window_display": false
  }
 },
 "nbformat": 4,
 "nbformat_minor": 2
}
