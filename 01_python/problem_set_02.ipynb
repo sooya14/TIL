{
 "cells": [
  {
   "cell_type": "markdown",
   "metadata": {},
   "source": [
    "# 함수 만들기\n",
    "\n",
    "### 1. 이상한 덧셈\n",
    "> 숫자로 구성된 리스트에서 양의 정수의 합을 구하는 함수, `positive_sum` 을 만들어 보아요\n",
    "\n",
    "예시)\n",
    "```python\n",
    "positive_sum([1, -10, 2]) # 3\n",
    "positive_sum([-1, -2, -3, -4]) # 0\n",
    "```"
   ]
  },
  {
   "cell_type": "code",
   "execution_count": 12,
   "metadata": {},
   "outputs": [
    {
     "data": {
      "text/plain": [
       "0"
      ]
     },
     "execution_count": 12,
     "metadata": {},
     "output_type": "execute_result"
    }
   ],
   "source": [
    "# TCH\n",
    "\n",
    "def positive_sum(numbers):\n",
    "    sum = 0\n",
    "    for number in numbers:\n",
    "        if number > 0:\n",
    "            sum += number\n",
    "    return sum\n",
    "    \n",
    "positive_sum([-1, -2, -3, -4])    "
   ]
  },
  {
   "cell_type": "code",
   "execution_count": 10,
   "metadata": {},
   "outputs": [
    {
     "data": {
      "text/plain": [
       "[1, 2, 5]"
      ]
     },
     "execution_count": 10,
     "metadata": {},
     "output_type": "execute_result"
    }
   ],
   "source": [
    "ns = [-1, -2, 1, 2, -3, 5] # filter / list comprehension\n",
    "\n",
    "lc = [n for n in ns if n > 0]\n",
    "\n",
    "def is_pos(n):\n",
    "    return n > 0\n",
    "\n",
    "fil = list(filter(is_pos, ns))\n",
    "\n",
    "fil"
   ]
  },
  {
   "cell_type": "code",
   "execution_count": 11,
   "metadata": {},
   "outputs": [
    {
     "data": {
      "text/plain": [
       "0"
      ]
     },
     "execution_count": 11,
     "metadata": {},
     "output_type": "execute_result"
    }
   ],
   "source": [
    "# list comprehension => list => return sum(list)\n",
    "def positive_sum_lc(numbers):\n",
    "    return sum([n for n in numbers if n > 0])\n",
    "\n",
    "\n",
    "# list => filter() => list(filter object)\n",
    "def positive_sum_filter(numbers):\n",
    "    def is_pos(n):\n",
    "        return n > 0\n",
    "\n",
    "    return sum(list(filter(is_pos, numbers)))\n",
    " \n",
    "positive_sum([-1, -2, -3, -4])    "
   ]
  },
  {
   "cell_type": "code",
   "execution_count": 4,
   "metadata": {},
   "outputs": [
    {
     "data": {
      "text/plain": [
       "0"
      ]
     },
     "execution_count": 4,
     "metadata": {},
     "output_type": "execute_result"
    }
   ],
   "source": [
    "# 이상한 덧셈\n",
    "\n",
    "# SOO\n",
    "\n",
    "def positive_sum(num):\n",
    "    sum_num = []\n",
    "    for i in num:\n",
    "        if i > 0:\n",
    "            sum_num.append(i)\n",
    "        else:\n",
    "            pass\n",
    "    res = sum(sum_num)\n",
    "    \n",
    "    return res\n",
    "    \n",
    "positive_sum([1, -10, 2])\n",
    "positive_sum([-1, -2, -3, -4])"
   ]
  },
  {
   "cell_type": "markdown",
   "metadata": {},
   "source": [
    "### 2. 문자열 탐색\n",
    "> 문자열 요소로만 이루어진 리스트를 넣었을 때, 문자열의 길이가 2 이상이고 주어진 문자열의 첫 번째와 마지막 문자가 같은 문자열의 수를 세는 함수 `start_end` 를 작성하세요\n",
    "\n",
    "예시)\n",
    "```python\n",
    "keywords = ['level', 'asdwe', 's', 'abadsfa', 'q1q']\n",
    "start_end(keywords) # 3\n",
    "```"
   ]
  },
  {
   "cell_type": "code",
   "execution_count": 13,
   "metadata": {},
   "outputs": [],
   "source": [
    "# TCH\n",
    "\n",
    "def start_end(words):\n",
    "    count = 0\n",
    "    for word in words:\n",
    "        if len(word)>=2 and word[0]==word[-1]:\n",
    "            count += 1\n",
    "            \n",
    "    return count\n"
   ]
  },
  {
   "cell_type": "code",
   "execution_count": 15,
   "metadata": {},
   "outputs": [
    {
     "data": {
      "text/plain": [
       "3"
      ]
     },
     "execution_count": 15,
     "metadata": {},
     "output_type": "execute_result"
    }
   ],
   "source": [
    "keywords = ['level', 'asdwe', 's', 'abadsfa', 'q1q']\n",
    "start_end(keywords)"
   ]
  },
  {
   "cell_type": "code",
   "execution_count": 1,
   "metadata": {},
   "outputs": [
    {
     "name": "stdout",
     "output_type": "stream",
     "text": [
      "3\n"
     ]
    }
   ],
   "source": [
    "# 문자열 탐색\n",
    "\n",
    "# SOO\n",
    "\n",
    "def start_end(x):\n",
    "    answer = 0\n",
    "    for word in x:\n",
    "        if len(word) >= 2:\n",
    "            if word[0] == word[-1]:\n",
    "                answer += 1\n",
    "    return answer\n",
    "\n",
    "keywords = ['level', 'asdwe', 's', 'abadsfa', 'q1q']\n",
    "print(start_end(keywords))"
   ]
  },
  {
   "cell_type": "markdown",
   "metadata": {},
   "source": [
    "### 3. Collatz\n",
    "> Collatz 추측: 어떤 자연수 n 이던지, 다음과 같은 작업을 반복하면 1로 만들수 있다.\n",
    "1. n이 짝수라면 2로 나눈다.\n",
    "2. n이 홀수라면 3을 곱하고 1을 더한다.\n",
    "3. 결과로 나온 수에 1번과 2번의 작업을 1이 될때까지 반복한다.\n",
    "\n",
    "> 예를 들어 n 이 6이면, 6 => 3 => 10 => 5 => 16 => 8 => 4 => 2 => 1 이 되며 8번(=> 갯수!)만에 1이 됩니다. 자연수 n이 들어왔을 때, 몇 번의 작업만에 1이 되는 지를 `return` 하는 함수 `collatz()` 를 완성하세요\n",
    "\n",
    "> 단! 500 번을 넘어가도 1이 되지 않는다면, -1을 `return` 할게요!\n",
    "\n",
    "예시)\n",
    "```python\n",
    "collatz(6) # 8\n",
    "collatz(16) # 4\n",
    "collatz(626331) # -1\n",
    "```"
   ]
  },
  {
   "cell_type": "code",
   "execution_count": 18,
   "metadata": {},
   "outputs": [],
   "source": [
    "# TCH\n",
    "\n",
    "def collatz(n):\n",
    "    for i in range(500):\n",
    "        if n % 2:    # 홀수 판별법\n",
    "            # 홀수\n",
    "            n = (n*3 + 1) / 2\n",
    "        else:\n",
    "            # 짝수\n",
    "            n /= 2\n",
    "        \n",
    "            if n == 1:\n",
    "                return i + 1\n",
    "    # 500번 넘어갔는데도 안되면 -1\n",
    "    else:\n",
    "        return -1\n",
    "\n",
    "  \n"
   ]
  },
  {
   "cell_type": "code",
   "execution_count": null,
   "metadata": {},
   "outputs": [],
   "source": [
    "# TCH\n",
    "\n",
    "def collatz(n):\n",
    "    for i in range(500):\n",
    "        n = n*3 + 1 if n % 2 else n / 2\n",
    "        \n",
    "        if n == 1:\n",
    "            return i + 1\n",
    "    # 500번 넘어갔는데도 안되면 -1\n",
    "    else:\n",
    "        return -1\n",
    "\n",
    "  \n"
   ]
  },
  {
   "cell_type": "code",
   "execution_count": 20,
   "metadata": {},
   "outputs": [
    {
     "name": "stdout",
     "output_type": "stream",
     "text": [
      "8\n",
      "4\n",
      "-1\n"
     ]
    }
   ],
   "source": [
    "print(collatz(6)) # 8          \n",
    "print(collatz(16)) # 4\n",
    "print(collatz(626331)) # -1  "
   ]
  }
 ],
 "metadata": {
  "kernelspec": {
   "display_name": "Python 3",
   "language": "python",
   "name": "python3"
  },
  "language_info": {
   "codemirror_mode": {
    "name": "ipython",
    "version": 3
   },
   "file_extension": ".py",
   "mimetype": "text/x-python",
   "name": "python",
   "nbconvert_exporter": "python",
   "pygments_lexer": "ipython3",
   "version": "3.7.3"
  },
  "toc": {
   "base_numbering": 1,
   "nav_menu": {},
   "number_sections": true,
   "sideBar": true,
   "skip_h1_title": false,
   "title_cell": "Table of Contents",
   "title_sidebar": "Contents",
   "toc_cell": false,
   "toc_position": {},
   "toc_section_display": true,
   "toc_window_display": false
  }
 },
 "nbformat": 4,
 "nbformat_minor": 2
}
