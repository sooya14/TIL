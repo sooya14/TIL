{
 "cells": [
  {
   "cell_type": "markdown",
   "metadata": {},
   "source": [
    "# workshop day01 "
   ]
  },
  {
   "cell_type": "code",
   "execution_count": null,
   "metadata": {},
   "outputs": [],
   "source": [
    "# 문제 1\n",
    "\n",
    "n, m = 5, 9\n",
    "garo = '*' *n\n",
    "\n",
    "print((garo + '\\n') * m)   # 마지막에 띄어지는 코드\n",
    "\n",
    "print(((garo + '\\n') * (m - 1)) + garo)   "
   ]
  },
  {
   "cell_type": "code",
   "execution_count": null,
   "metadata": {},
   "outputs": [],
   "source": [
    "# 문제 2 ME\n",
    "print('\\\"파일은 C:\\\\Winedows\\\\Users\\\\내문서\\\\Python에 저장이 되어있습니다.\\\" \\n 나는 생각했다. \\'cd를 써서 git bash로 들어가봐야지\\'')"
   ]
  },
  {
   "cell_type": "code",
   "execution_count": null,
   "metadata": {},
   "outputs": [],
   "source": [
    "# 문제 3 TCH\n",
    "# 근의 공식 이용 : a^2x + bx + c \n",
    "# => (-b + (b**2 -4*a*c)**(1/2)) / 2*a , (-b - (b**2 - 4*a*c)**(1/2)) / 2*a\n",
    "\n",
    "a, b, c = 1, 4, -21\n",
    "\n",
    "x1 = (-b + (b**2 -4*a*c)**(1/2)) / 2*a \n",
    "x2 = (-b - (b**2 - 4*a*c)**(1/2)) / 2*a\n",
    "\n",
    "print(x1, x2)"
   ]
  },
  {
   "cell_type": "markdown",
   "metadata": {},
   "source": [
    "# homework day01"
   ]
  },
  {
   "cell_type": "markdown",
   "metadata": {},
   "source": [
    "문제 5\n",
    "\n",
    "문자열을 정수로 바꾸고 그것을 실수로 바꾸는 것은 할 수 없다. "
   ]
  },
  {
   "cell_type": "markdown",
   "metadata": {},
   "source": [
    "# workshop day02 "
   ]
  },
  {
   "cell_type": "code",
   "execution_count": null,
   "metadata": {},
   "outputs": [],
   "source": [
    "# 문제 1\n",
    "\n",
    "n, m = 5, 9\n",
    "\n",
    "for _ in range(m):   # _ : 이것으로 아무것도 사용하지 않을거야 의미 \n",
    "    for _ in range(n):\n",
    "        print('*', end='')\n",
    "    print()"
   ]
  },
  {
   "cell_type": "code",
   "execution_count": null,
   "metadata": {},
   "outputs": [],
   "source": [
    "# 문제 2\n",
    "student = {'python': 80, 'algorithm': 99, 'django': 89, 'flask': 83}\n",
    "\n",
    "result = 0\n",
    "\n",
    "for score in student.values():\n",
    "    result += score / len(student)   # len : , 있는 것은 다 셀 수 있다.\n",
    "    \n",
    "print(result)\n",
    "\n",
    "# TCH ver 2\n",
    "sum(student.values()) / len(student)\n"
   ]
  },
  {
   "cell_type": "markdown",
   "metadata": {},
   "source": [
    "### ditionary에 넣는 방법\n",
    "\n",
    "d = {}\n",
    "\n",
    "d['a'] = 'A'\n",
    "\n",
    "=> 딕셔너리는 key 값만 본다."
   ]
  },
  {
   "cell_type": "code",
   "execution_count": null,
   "metadata": {},
   "outputs": [],
   "source": [
    "# 문제 3 \n",
    "\n",
    "# SOO\n",
    "blood_types = ['A', 'B', 'A', 'O', 'AB', 'AB', 'O', 'A', 'B', 'O', 'B', 'AB']\n",
    "\n",
    "result = {'A': blood_types.count('A'), 'B': blood_types.count('B'), 'O': blood_types.count('O'), 'AB': blood_types.count('AB')}\n",
    "print(result)    "
   ]
  },
  {
   "cell_type": "code",
   "execution_count": null,
   "metadata": {},
   "outputs": [],
   "source": [
    "# SOO\n",
    "blood_types = ['A', 'B', 'A', 'O', 'AB', 'AB', 'O', 'A', 'B', 'O', 'B', 'AB']\n",
    "\n",
    "res = set(blood_types)\n",
    "print(res)\n",
    "\n",
    "result = {}\n",
    "for i in res:\n",
    "    result[i] = blood_types.count(i)\n",
    "print(result)\n"
   ]
  },
  {
   "cell_type": "code",
   "execution_count": null,
   "metadata": {},
   "outputs": [],
   "source": [
    "# TCH \n",
    "blood_types = ['A', 'B', 'A', 'O', 'AB', 'AB', 'O', 'A', 'B', 'O', 'B', 'AB']\n",
    "unic_blood_type = set(blood_types)\n",
    "count_dict = {}\n",
    "\n",
    "for u in list(unic_blood_type):\n",
    "    count_dict[u] = 0\n",
    "    \n",
    "for b in blood_types:\n",
    "    count_dict[b] += 1\n",
    "    \n",
    "print(count_dict)"
   ]
  },
  {
   "cell_type": "code",
   "execution_count": null,
   "metadata": {},
   "outputs": [],
   "source": [
    "# TCH ver 2\n",
    "\n",
    "blood_types = ['A', 'B', 'A', 'O', 'AB', 'AB', 'O', 'A', 'B', 'O', 'B', 'AB']\n",
    "\n",
    "count_dict = {}\n",
    "\n",
    "for b in blood_types:\n",
    "    if count_dict.get(b):   # True / None==False\n",
    "        count_dict[b] += 1\n",
    "    else:\n",
    "        count_dict[b] = 1  # count_dict = {'A' : 1+1, 'B' : 1, }\n",
    "           "
   ]
  },
  {
   "cell_type": "code",
   "execution_count": null,
   "metadata": {},
   "outputs": [],
   "source": [
    "# cf\n",
    "print({'a': 'A'}.get('X'))   # => 없으면 없다고 말해준다. 에러가 아니라"
   ]
  },
  {
   "cell_type": "code",
   "execution_count": null,
   "metadata": {},
   "outputs": [],
   "source": [
    "# ver 2 => set 사용하지 않음 \n",
    "blood_types = ['A', 'B', 'A', 'O', 'AB', 'AB', 'O', 'A', 'B', 'O', 'B', 'AB']\n",
    "final={}\n",
    "for blood_type in blood_types:\n",
    "    final[blood_type] = blood_types.count(blood_type)   # 똑같은 일을 계속 하게 된다. \n",
    "    \n",
    "print(final)"
   ]
  },
  {
   "cell_type": "code",
   "execution_count": null,
   "metadata": {},
   "outputs": [],
   "source": [
    "# ver 3\n",
    "blood_types = ['A', 'B', 'A', 'O', 'AB', 'AB', 'O', 'A', 'B', 'O', 'B', 'AB']\n",
    "dict_blood = {}\n",
    "for i in blood_types:\n",
    "    if i not in dict_blood:\n",
    "        dict_blood[i] = blood_types.count(i)\n",
    "print(dict_blood)"
   ]
  },
  {
   "cell_type": "markdown",
   "metadata": {},
   "source": [
    "# homework day02"
   ]
  },
  {
   "cell_type": "code",
   "execution_count": null,
   "metadata": {},
   "outputs": [],
   "source": [
    "# 문제 2\n",
    "\n",
    "numbers = list(range(1, 51))  # range 는 범위를 인정하지 않는다. \n",
    "numbers[::2]"
   ]
  },
  {
   "cell_type": "markdown",
   "metadata": {},
   "source": [
    "# workshop day03"
   ]
  },
  {
   "cell_type": "markdown",
   "metadata": {},
   "source": [
    "Palindrome은 앞에서부터 읽었을 때와 뒤에서부터 읽었을 때 같은 단어를 뜻한다.\n",
    "따라서, ‘a’ ‘nan’ ’토마토’ 모두 palindrome에 해당합니다.\n",
    "\n",
    "단어를 입력받아 Palindrome을 검증하고 True나 False를 리턴하는\n",
    "함수 palindrome(word)를 만들어보세요."
   ]
  },
  {
   "cell_type": "code",
   "execution_count": null,
   "metadata": {},
   "outputs": [],
   "source": [
    "# SOO\n",
    "word = input('단어를 입력주세요: ')\n",
    "\n",
    "word = word.lower()\n",
    "\n",
    "if word == word[::-1]:\n",
    "    print(word)\n",
    "else:\n",
    "    print('틀렸습니다.')"
   ]
  },
  {
   "cell_type": "markdown",
   "metadata": {},
   "source": [
    "# homework day03 "
   ]
  },
  {
   "cell_type": "markdown",
   "metadata": {},
   "source": [
    "**문제 2** => 3번\n",
    "\n",
    "기본인자가 앞에 있는 것은 문제가 있다. => 3번\n",
    "정확하게 지칭하면 상관없다. \n"
   ]
  },
  {
   "cell_type": "markdown",
   "metadata": {},
   "source": [
    "**문제 3** \n",
    "return 이 없기 때문에 답은 0 이다. \n",
    "아무것도 추출하지 않았다. "
   ]
  },
  {
   "cell_type": "markdown",
   "metadata": {},
   "source": [
    "# workshop day04"
   ]
  },
  {
   "cell_type": "code",
   "execution_count": null,
   "metadata": {},
   "outputs": [],
   "source": [
    "# TCH while문\n",
    "import math\n",
    "\n",
    "def bisection(n, minimum=0, maximum=1):\n",
    "    if minimum ** 2 == n:\n",
    "        return minimum\n",
    "    elif maximum ** 2 == n:\n",
    "        return maximum\n",
    "    else:\n",
    "        while not math.isclose(minimum, maximum):\n",
    "            if minimum ** 2 < n < maximum ** 2:\n",
    "                guess = (minimum + maximum) / 2\n",
    "                if n > guess ** 2:\n",
    "                    minimum = guess\n",
    "                else:\n",
    "                    maximum = guess                  \n",
    "            else:\n",
    "                minimum, maximum = maximum, maximum + 1   # min +=1, max += 1\n",
    "            \n",
    "        return minimum\n",
    "\n",
    "\n",
    "bisection(3)"
   ]
  },
  {
   "cell_type": "code",
   "execution_count": null,
   "metadata": {},
   "outputs": [],
   "source": [
    "# TCH while문 ver2\n",
    "\n",
    "def bis(n):\n",
    "    minimum, maximum = 1, n\n",
    "    guess = 1\n",
    "    \n",
    "    while not math.isclose(guess ** 2, n):\n",
    "        guess = (minimum + maximum) / 2\n",
    "        if guess ** 2 < n:\n",
    "            minimum = guess\n",
    "        else:\n",
    "            maximum = guess\n",
    "    return guess\n",
    "\n",
    "bis(3)\n"
   ]
  },
  {
   "cell_type": "code",
   "execution_count": null,
   "metadata": {
    "scrolled": true
   },
   "outputs": [],
   "source": [
    "# TCH 재귀함수\n",
    "\n",
    "def bis(n, minimum=0, maximum=1):\n",
    "    if minimum ** 2 == n:\n",
    "        return minimum\n",
    "    elif maximum ** 2 == n:\n",
    "        return maximum\n",
    "    elif math.isclose(minimum, maximum):\n",
    "        return minimum\n",
    "    \n",
    "                            # 아래부터 다시 코드를 짜도 된다. \n",
    "        \n",
    "    if minimum ** 2 < n < maximum ** 2:\n",
    "        guess = (minimum + maximum) / 2 \n",
    "        if n < guess ** 2:   # min < root n < guess < max\n",
    "            return bis(n, minimum, guess)\n",
    "        else:\n",
    "            return bis(n, guess, maximum)\n",
    "    else: \n",
    "        minimumm, maximum = maximum, maximum + 1\n",
    "        return bis(n, minimum, maximum)\n",
    "    \n",
    "bisection(3)\n"
   ]
  },
  {
   "cell_type": "markdown",
   "metadata": {},
   "source": [
    "# homwork day04"
   ]
  },
  {
   "cell_type": "markdown",
   "metadata": {},
   "source": [
    "**문제 2**\n",
    "\n",
    "=> 1번 : a, b 가 return 되는 것이 아니라 싱글 튜플이 되어버린다. "
   ]
  },
  {
   "cell_type": "markdown",
   "metadata": {},
   "source": [
    "# workshop day05"
   ]
  },
  {
   "cell_type": "code",
   "execution_count": null,
   "metadata": {},
   "outputs": [],
   "source": [
    "# soo\n",
    "import calc\n",
    "\n",
    "calc.s_sum(3, 0)\n",
    "calc.s_minus(3, 0)\n",
    "calc.s_mul(3, 0)\n",
    "calc.s_div(3, 0)\n"
   ]
  },
  {
   "cell_type": "markdown",
   "metadata": {},
   "source": [
    "# workshop day06"
   ]
  },
  {
   "cell_type": "code",
   "execution_count": 5,
   "metadata": {},
   "outputs": [],
   "source": [
    "class Circle:\n",
    "    pi = 3.14\n",
    "    x = 0\n",
    "    y = 0\n",
    "    r = 0\n",
    "    \n",
    "    def __init__(self, r, x, y):\n",
    "        self.r = r\n",
    "        self.x = x\n",
    "        self.y = y\n",
    "        \n",
    "    def area(self):\n",
    "        return Circle.pi * self.r * self.r\n",
    "    \n",
    "    def circumference(self):\n",
    "        return 2 * Circle.pi * self.r\n",
    "    \n",
    "    def center(self):\n",
    "        return (self.x, self.y)\n",
    "    \n"
   ]
  },
  {
   "cell_type": "code",
   "execution_count": 12,
   "metadata": {
    "scrolled": true
   },
   "outputs": [
    {
     "data": {
      "text/plain": [
       "18.84"
      ]
     },
     "execution_count": 12,
     "metadata": {},
     "output_type": "execute_result"
    }
   ],
   "source": [
    "my_c = Circle(3, 2, 4)\n",
    "\n",
    "my_c.area()\n",
    "my_c.circumference()"
   ]
  },
  {
   "cell_type": "markdown",
   "metadata": {},
   "source": [
    "# homwork day06"
   ]
  },
  {
   "cell_type": "markdown",
   "metadata": {},
   "source": [
    "**문제 1**\n",
    "\n",
    "어제와 달랐던 부분? => 왜 class 인데 대문자가 아닐까?\n",
    "\n",
    "class 는 띄어쓰기 부분에 대문자를 적었는데....\n",
    "\n",
    "내가 만든 클래스일때?!!!!!\n",
    "\n"
   ]
  },
  {
   "cell_type": "code",
   "execution_count": null,
   "metadata": {},
   "outputs": [],
   "source": [
    "class my_class  # => 이렇게 지어도 에러가 발생하지 않는다. "
   ]
  },
  {
   "cell_type": "markdown",
   "metadata": {},
   "source": [
    "**문제 2**\n",
    "\n",
    "=> 데이터의 값이 외부나 내부에서 변경되거나 수정되면 그 행동들을 만드는게 매서드이다. \n"
   ]
  },
  {
   "cell_type": "markdown",
   "metadata": {},
   "source": [
    "# workshop day07"
   ]
  },
  {
   "cell_type": "code",
   "execution_count": 11,
   "metadata": {},
   "outputs": [],
   "source": [
    "# soo\n",
    "class Animal:\n",
    "    def __init__(self, name):\n",
    "        self.name = name\n",
    "        \n",
    "    def walk(self):\n",
    "        print(f'{self.name}! 걷는다!')\n",
    "        \n",
    "    def eat(self):\n",
    "        print(f'{self.name}! 먹는다!')\n",
    "        \n",
    "class Dog(Animal):\n",
    "    \n",
    "    def walk(self):\n",
    "        print(f'멍멍이! 달린다!')\n",
    "        \n",
    "    def run(self):\n",
    "        print(f'멍멍이! 달린다!')\n",
    "        \n",
    "class Bird(Animal):\n",
    "    def __init__(self, name):\n",
    "        self.name = '구구'\n",
    "        \n",
    "    def fly(self):\n",
    "        print(f'{self.name}! 푸드덕!')\n",
    "    "
   ]
  },
  {
   "cell_type": "code",
   "execution_count": 12,
   "metadata": {},
   "outputs": [
    {
     "name": "stdout",
     "output_type": "stream",
     "text": [
      "멍멍이! 달린다!\n",
      "멍멍이! 달린다!\n",
      "구구! 걷는다!\n",
      "구구! 먹는다!\n",
      "구구! 푸드덕!\n"
     ]
    }
   ],
   "source": [
    "dog = Dog('바둑이')\n",
    "dog.walk() # 멍멍이! 달린다!\n",
    "dog.run()  # 멍멍이! 달린다!\n",
    "\n",
    "bird = Bird('구구')\n",
    "bird.walk()  # 구구! 걷는다! \n",
    "bird.eat()  # 구구! 먹는다!\n",
    "bird.fly()  # 구구! 푸드덕!\n"
   ]
  }
 ],
 "metadata": {
  "kernelspec": {
   "display_name": "Python 3",
   "language": "python",
   "name": "python3"
  },
  "language_info": {
   "codemirror_mode": {
    "name": "ipython",
    "version": 3
   },
   "file_extension": ".py",
   "mimetype": "text/x-python",
   "name": "python",
   "nbconvert_exporter": "python",
   "pygments_lexer": "ipython3",
   "version": "3.7.3"
  }
 },
 "nbformat": 4,
 "nbformat_minor": 2
}
