{
 "cells": [
  {
   "cell_type": "code",
   "execution_count": 7,
   "metadata": {},
   "outputs": [],
   "source": [
    "class Calculator:\n",
    "    count = 0\n",
    "    \n",
    "    def info(self):\n",
    "        print('나는 계산기 입니다.')\n",
    "\n",
    "\n",
    "    @staticmethod\n",
    "    def add(a,b):\n",
    "        Calculator.count += 1\n",
    "        print(f'{a} +{b} 는 {a+b} 입니다.')\n",
    "\n",
    "\n",
    "    @classmethod\n",
    "    def history(cls):\n",
    "        print(f'총{cls.count}번 계산 했습니다.')\n",
    "        \n"
   ]
  },
  {
   "cell_type": "code",
   "execution_count": 8,
   "metadata": {},
   "outputs": [
    {
     "name": "stdout",
     "output_type": "stream",
     "text": [
      "나는 계산기 입니다.\n",
      "1 +3 는 4 입니다.\n",
      "총1번 계산 했습니다.\n"
     ]
    }
   ],
   "source": [
    "cal = Calculator()\n",
    "\n",
    "# 인스턴스 메서드 실행 \n",
    "cal.info()  # 나는 계산기 입니다. \n",
    "\n",
    "# 스태틱 메서드 실행 \n",
    "cal.add(1, 3)  # 1 +3 는 4 입니다.\n",
    "\n",
    "# 클래스 매서드 실행\n",
    "cal.history()  #  총1번 계산 했습니다.\n"
   ]
  }
 ],
 "metadata": {
  "kernelspec": {
   "display_name": "Python 3",
   "language": "python",
   "name": "python3"
  },
  "language_info": {
   "codemirror_mode": {
    "name": "ipython",
    "version": 3
   },
   "file_extension": ".py",
   "mimetype": "text/x-python",
   "name": "python",
   "nbconvert_exporter": "python",
   "pygments_lexer": "ipython3",
   "version": "3.7.3"
  }
 },
 "nbformat": 4,
 "nbformat_minor": 2
}
