{
 "cells": [
  {
   "cell_type": "markdown",
   "metadata": {},
   "source": [
    "# Problem set (Python intro & Control of Flow"
   ]
  },
  {
   "cell_type": "markdown",
   "metadata": {},
   "source": [
    "## 구구단 출력\n",
    "\n",
    "출력 결과 예시\n",
    "```\n",
    "----- 2 단 -----\n",
    "2 * 1 = 2\n",
    "2 * 2 = 4\n",
    "2 * 3 = 6\n",
    "...\n",
    "\n",
    "----- 3단 -----\n",
    "3 * 1 = 3\n",
    "3 * 2 = 6\n",
    "3 * 3 = 9\n",
    "...\n",
    "\n",
    "----- 9단 -----\n",
    "...\n",
    "9 * 8 = 72\n",
    "9 * 9 = 81\n",
    "```"
   ]
  },
  {
   "cell_type": "code",
   "execution_count": null,
   "metadata": {},
   "outputs": [],
   "source": [
    "# GO!\n",
    "\n",
    "\n",
    "for dan in range(2,10):   # 2 ~ 9\n",
    "    print(f'----{dan}단----')\n",
    "    for num in range(1, 10):   # 1~ 9\n",
    "        gugudan = dan * num\n",
    "        print(f'{dan} * {num} = {gugudan}')\n",
    "        \n",
    "        \n",
    "# TCH\n",
    "\n",
    "for i in range(2,10):   # 2 ~ 9\n",
    "    print(f'\\n----{i}단----')\n",
    "    for j in range(1, 10):   # 1~ 9\n",
    "        print(f'{i} * {j} = {i*j}')"
   ]
  },
  {
   "cell_type": "markdown",
   "metadata": {},
   "source": [
    "## 소수 찾기\n",
    "\n",
    "> 2 부터 N 까지의 정수에서 소수를 찾아내기.\n",
    "\n",
    "출력 결과 예시(N 이 10 일 경우)\n",
    "```\n",
    "2\n",
    "3\n",
    "5\n",
    "7\n",
    "```\n",
    "\n",
    "### 추가 구현\n",
    "> 소수 판단 과정에서 소수가 아니라 판단되면, `break` 사용"
   ]
  },
  {
   "cell_type": "code",
   "execution_count": null,
   "metadata": {},
   "outputs": [],
   "source": [
    "# GO!\n",
    "\n",
    "# TCH\n",
    "N = 10\n",
    "\n",
    "for i in range(2, N+1):   # 1~10   # for문은 시퀀스가 있는 데이터를 다루는 형식이다. \n",
    "    is_prime = True   # is_ : TF 라는 것을 알 수 있다.\n",
    "     #  x 를 (1부터 x 까지 숫자)로 나눠보고\n",
    "     # 1과 x 로만 나누었을 때 나머지가 0이라면 \n",
    "    for j in range(2, i):\n",
    "        if i % j == 0:\n",
    "            is_prime = False\n",
    "            break\n",
    "    \n",
    "    if is_prime:   # ==True 굳이 확인하지 않아도 된다. \n",
    "        print(i)\n",
    "\n",
    "\n",
    "# x = 4\n",
    "#  x 를 (1부터 x 까지 숫자)로 나눠보고, 1과 x 로만 나누었을 때 나머지가 0이라면 \n",
    "\n",
    "# is_prime = True   # is_ : TF 라는 것을 알 수 있다.\n",
    "# for j in range(2, x):\n",
    "#     if x % j == 0:\n",
    "#         is_prime = False\n",
    "#         break\n",
    "        \n",
    "# print(is_prime)\n",
    "    \n",
    "      "
   ]
  },
  {
   "cell_type": "code",
   "execution_count": null,
   "metadata": {},
   "outputs": [],
   "source": [
    "# TCH ver.2\n",
    "N = 10\n",
    "\n",
    "for i in range(2, N+1):   # 1~10   # for문은 시퀀스가 있는 데이터를 다루는 형식이다. \n",
    "    is_prime = True   # is_ : TF 라는 것을 알 수 있다.\n",
    "     #  x 를 (1부터 x 까지 숫자)로 나눠보고\n",
    "     # 1과 x 로만 나누었을 때 나머지가 0이라면 \n",
    "    for j in range(2, i):\n",
    "        if i % j == 0:\n",
    "            is_prime = False\n",
    "            break\n",
    "    else:\n",
    "        print(i)"
   ]
  },
  {
   "cell_type": "code",
   "execution_count": null,
   "metadata": {},
   "outputs": [],
   "source": [
    "# ver.3\n",
    "N = 10\n",
    "\n",
    "for i in range(2, N+1):  \n",
    "    is_prime = True   \n",
    "    for j in range(2, i):\n",
    "        if i % j == 0:\n",
    "            is_prime = False\n",
    "            break\n",
    "    else:\n",
    "        print(i)"
   ]
  },
  {
   "cell_type": "markdown",
   "metadata": {},
   "source": [
    "## 팩토리얼 구현하기\n",
    "\n",
    "> n! = 1 * 2 * 3 ... n-1 * n\n",
    "\n",
    "출력 결과 예시\n",
    "```\n",
    "N 을 입력하세요: 5\n",
    "120\n",
    "```"
   ]
  },
  {
   "cell_type": "code",
   "execution_count": null,
   "metadata": {},
   "outputs": [],
   "source": [
    "# GO!\n",
    "\n",
    "num = int(input('N 을 입력하세요: '))\n",
    "\n",
    "a = 1\n",
    "\n",
    "for i in range(1, num+1): \n",
    "    a = a * i\n",
    "    \n",
    "print(a) \n"
   ]
  },
  {
   "cell_type": "code",
   "execution_count": null,
   "metadata": {},
   "outputs": [],
   "source": [
    "# TCH\n",
    "import math\n",
    "\n",
    "result = math.factorial(5)\n",
    "print(result)"
   ]
  },
  {
   "cell_type": "code",
   "execution_count": null,
   "metadata": {},
   "outputs": [],
   "source": [
    "# TCH 2\n",
    "n = int(input('N 을 입력하세요: '))   # 입력값은 항상 input 은 항상 str 이다!!!!! \n",
    "\n",
    "# 3 => 3 *  2 * 1 == \n",
    "\n",
    "result = 1\n",
    "\n",
    "for i in range(1, n+1): \n",
    "    result *= i\n",
    "    \n",
    "print(result) "
   ]
  },
  {
   "cell_type": "markdown",
   "metadata": {},
   "source": [
    "## 과일은 몇개?\n",
    " 아래 코드에서 과일과 아닌 것을 구분하기 \n",
    " \n",
    "    basket = {'apple': 4, 'orange': 3, 'computer': 28, 'tv': 2, 'banana': 5, 'tomato': 9}\n",
    "    fruits = ['apple', 'orange', 'banana', 'pear', 'tomato']\n"
   ]
  },
  {
   "cell_type": "code",
   "execution_count": null,
   "metadata": {},
   "outputs": [],
   "source": [
    "# SOO\n",
    "\n",
    "basket = {'apple': 4, 'orange': 3, 'computer': 28, 'tv': 2, 'banana': 5, 'tomato': 9}\n",
    "fruits = ['apple', 'orange', 'banana', 'pear', 'tomato']\n",
    "\n",
    "# 과일은 21개, 아닌 것은 30개\n",
    "\n",
    "result_f = 0\n",
    "result_i = 0\n",
    "\n",
    "\n",
    "for key in basket:\n",
    "    for fruit in fruits:\n",
    "        if key == fruit:\n",
    "            result_f += basket[key]\n",
    "    else:\n",
    "        result_i += basket[key]\n",
    "            \n",
    "result_asw = result_i - result_f            \n",
    "\n",
    "# print(result_f)\n",
    "# print(result_i)\n",
    "\n",
    "print(f'과일은 {result_f}개, 아닌 것은 {result_asw}개')\n",
    "         "
   ]
  },
  {
   "cell_type": "markdown",
   "metadata": {},
   "source": [
    "`dictionary` :  순회할 일이 없다. 몇번인지 알고 있으면 키 값이 유일무의하니깐 다 찾을 필요가 없다. 사물함=> 키넣고 빼면 된다. \n",
    "\n",
    "`list` : 순회하여 꺼내는 것이다. => for문으로 해야한다. "
   ]
  },
  {
   "cell_type": "code",
   "execution_count": null,
   "metadata": {},
   "outputs": [],
   "source": [
    "# TCH ver1\n",
    "\n",
    "basket = {'apple': 4, 'orange': 3, 'computer': 28, 'tv': 2, 'banana': 5, 'tomato': 9}\n",
    "fruits = ['apple', 'orange', 'banana', 'pear', 'tomato']\n",
    "\n",
    "\n",
    "# fruits 안에 있는 요소들을 \n",
    "fruits_total = 0\n",
    "\n",
    "for fruit in fruits:\n",
    "    if basket.get(fruit):   # pear 가 없어서 none 이 나온다. => bool 했을 때 값이 뭐라도 있으면 True 이다. 통과한다!(많이 사용)\n",
    "        # basket[fruit]   # => error 가 나올 수 있다. \n",
    "        fruits_total += basket.get(fruit)  # basket 에서 value 꺼낸다. basket에 pear 이 없기 때문에 이 방식을 사용하는 것이다. \n",
    "        \n",
    "not_fruit_total = sum(basket.values()) - fruits_total\n",
    "\n",
    "print(fruits_total, not_fruit_total)\n"
   ]
  },
  {
   "cell_type": "code",
   "execution_count": null,
   "metadata": {},
   "outputs": [],
   "source": [
    "# ver 2 \n",
    "f_total = nf_total = 0\n",
    "\n",
    "for k, v in basket.items():\n",
    "    if k in fruits:\n",
    "        f_total += v\n",
    "    else:\n",
    "        nf_total += v\n",
    "        \n",
    "print(f_total, nf_total)"
   ]
  },
  {
   "cell_type": "markdown",
   "metadata": {},
   "source": [
    "## 중첩 조건문 활용하기\n",
    "\n",
    "> 아래와 같이 유저 목록이 담긴 리스트가 있습니다. \n",
    "```\n",
    "users = [\n",
    "    {'id': 'john', 'password': 'qwer1234'},\n",
    "    {'id': 'neo', 'password': '12341234'},\n",
    "    {'id': 'jason', 'password': 'kingjason'},\n",
    "]\n",
    "```\n",
    "1) 사용자의 이름을 입력받아 \n",
    "2) 등록된 사용자일 경우 \n",
    "3) 비밀번호를 입력 받습니다. \n",
    "- 이때 비밀번호가 맞다면 '환영합니다!' 라는 메시지를 출력하고 비밀번호가 틀릴 경우 '패스워드가 올바르지 않습니다.' 라는 메시지를 출력합니다. \n",
    "- 등록된 사용자가 아닌 경우 '존재하지 않는 사용자입니다.' 라는 메시지를 출력합니다. \n",
    "\n",
    "출력 결과 예시\n",
    "\n",
    "```\n",
    "id 를 입력하세요: neo\n",
    "password 를 입력하세요: 12341234\n",
    "환영합니다!\n",
    "```\n",
    "\n",
    "```\n",
    "id 를 입력하세요: john\n",
    "password 를 입력하세요: 123123\n",
    "패스워드가 올바르지 않습니다.\n",
    "```\n",
    "\n",
    "```\n",
    "id 를 입력하세요: JASON\n",
    "존재하지 않는 사용자 입니다.\n",
    "```\n",
    "\n",
    "### 추가 구현\n",
    "> id 혹은 pw 가 틀렸을 경우 맞을 때 까지 계속 물어보게 구현하기"
   ]
  },
  {
   "cell_type": "code",
   "execution_count": null,
   "metadata": {},
   "outputs": [],
   "source": [
    "# users 안의 id 와 password 는 바꿔도 상관 없습니다.\n",
    "users = [\n",
    "    {'id': 'john', 'password': 'qwer1234'},\n",
    "    {'id': 'neo', 'password': '12341234'},\n",
    "    {'id': 'jason', 'password': 'kingjason'},\n",
    "]\n",
    "\n"
   ]
  },
  {
   "cell_type": "code",
   "execution_count": 2,
   "metadata": {},
   "outputs": [
    {
     "name": "stdout",
     "output_type": "stream",
     "text": [
      "id를 입력하세요neo\n",
      "pw: 12341234\n",
      "환영합니다.\n"
     ]
    }
   ],
   "source": [
    "# TCH\n",
    "id_input = input('id를 입력하세요')\n",
    "\n",
    "# id 입력받기\n",
    "for user in users:  \n",
    "    if id_input == user['id']:\n",
    "        # pw 입력받기\n",
    "        pw_input = input('pw: ')\n",
    "        if pw_input == user['password']:\n",
    "            print('환영합니다.')\n",
    "        else:\n",
    "            print('비밀번호가 올바르지 않습니다.')   \n",
    "        break   # 찾았으면 끊어야 한다. \n",
    "else:\n",
    "    print('존재하지 않는 사용자 입니다.')   \n",
    "        "
   ]
  },
  {
   "cell_type": "code",
   "execution_count": 4,
   "metadata": {},
   "outputs": [
    {
     "name": "stdout",
     "output_type": "stream",
     "text": [
      "id: neo\n",
      "pw: 123\n",
      "비밀번호가 올바르지 않습니다.\n",
      "pw: 1234\n",
      "비밀번호가 올바르지 않습니다.\n",
      "pw: 12341234\n",
      "환영합니다!\n"
     ]
    }
   ],
   "source": [
    "# 추가구현\n",
    "find_id = find_pw = False\n",
    "\n",
    "# id 입력받기\n",
    "\n",
    "while not find_id:\n",
    "    id_input = input('id: ')\n",
    "    for user in users:\n",
    "        if id_input == user['id']:\n",
    "            find_id = True\n",
    "            \n",
    "            while not find_pw:\n",
    "                pw_input = input('pw: ')\n",
    "                \n",
    "                if pw_input == user['password']:\n",
    "                    find_pw = True\n",
    "                    print('환영합니다!')\n",
    "                else:\n",
    "                    print('비밀번호가 올바르지 않습니다.')\n",
    "            break\n",
    "    else:\n",
    "        print('존재하지 않는 사용자 입니다.')"
   ]
  }
 ],
 "metadata": {
  "kernelspec": {
   "display_name": "Python 3",
   "language": "python",
   "name": "python3"
  },
  "language_info": {
   "codemirror_mode": {
    "name": "ipython",
    "version": 3
   },
   "file_extension": ".py",
   "mimetype": "text/x-python",
   "name": "python",
   "nbconvert_exporter": "python",
   "pygments_lexer": "ipython3",
   "version": "3.7.3"
  }
 },
 "nbformat": 4,
 "nbformat_minor": 2
}
