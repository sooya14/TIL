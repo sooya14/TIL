{
 "cells": [
  {
   "cell_type": "markdown",
   "metadata": {},
   "source": [
    "# 과목평가 01 Python"
   ]
  },
  {
   "cell_type": "code",
   "execution_count": null,
   "metadata": {},
   "outputs": [],
   "source": [
    "# 다음 중 빌트인 함수가 아닌 것은?\n",
    "# sqrt() 는 import math 해야한다. "
   ]
  },
  {
   "cell_type": "code",
   "execution_count": null,
   "metadata": {},
   "outputs": [],
   "source": [
    "# my_complex = 3 + 4j\n",
    "# my_complex.real() => 특정 값에 접근하는 속성이다. 메소드가 아니다!!!! "
   ]
  },
  {
   "cell_type": "code",
   "execution_count": null,
   "metadata": {},
   "outputs": [],
   "source": [
    "# 함수에 대한 설명\n",
    "# 함수는 return 이 없으면 에러가 아니라 none 이 발생한다. "
   ]
  },
  {
   "cell_type": "code",
   "execution_count": null,
   "metadata": {},
   "outputs": [],
   "source": [
    "# d1 = {'d': dict()}  => {'d': {}}\n",
    "# d2 = dict(d={}) => {'d': {}}"
   ]
  },
  {
   "cell_type": "code",
   "execution_count": null,
   "metadata": {},
   "outputs": [],
   "source": [
    "def func(c=5, *args):\n",
    "    a, c ,b =args # a 4 c 1 b 2\n",
    "    return a + b + c\n",
    "\n",
    "func('3', '4', '1', '2') \n",
    "# 421\n"
   ]
  },
  {
   "cell_type": "code",
   "execution_count": null,
   "metadata": {},
   "outputs": [],
   "source": [
    "d = {'a': 1, 'b': 2}\n",
    "a1 = d.update(c=3)\n",
    "a2 = a1 \n",
    "\n",
    "# a1 a2 는 None "
   ]
  },
  {
   "cell_type": "code",
   "execution_count": 1,
   "metadata": {},
   "outputs": [
    {
     "name": "stdout",
     "output_type": "stream",
     "text": [
      "1 1\n"
     ]
    }
   ],
   "source": [
    "a = 1\n",
    "def fun_1():\n",
    "    a = 5\n",
    "    fun_2()\n",
    "    \n",
    "def fun_2():\n",
    "    print(a, end=' ')\n",
    "\n",
    "fun_1()\n",
    "print(a)  "
   ]
  },
  {
   "cell_type": "code",
   "execution_count": null,
   "metadata": {},
   "outputs": [],
   "source": []
  }
 ],
 "metadata": {
  "kernelspec": {
   "display_name": "Python 3",
   "language": "python",
   "name": "python3"
  },
  "language_info": {
   "codemirror_mode": {
    "name": "ipython",
    "version": 3
   },
   "file_extension": ".py",
   "mimetype": "text/x-python",
   "name": "python",
   "nbconvert_exporter": "python",
   "pygments_lexer": "ipython3",
   "version": "3.7.3"
  }
 },
 "nbformat": 4,
 "nbformat_minor": 2
}
