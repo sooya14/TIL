{
 "cells": [
  {
   "cell_type": "code",
   "execution_count": 1,
   "metadata": {},
   "outputs": [],
   "source": [
    "from students.models import Student"
   ]
  },
  {
   "cell_type": "markdown",
   "metadata": {},
   "source": [
    "Student \n",
    "* `name = models.CharField(max_length=10)`\n",
    "* `email = models.CharField(max_length=50)`\n",
    "* `github_id = models.CharField(max_length=50)`\n",
    "* `age = models.IntegerField()`"
   ]
  },
  {
   "cell_type": "code",
   "execution_count": null,
   "metadata": {},
   "outputs": [],
   "source": [
    "# Create"
   ]
  },
  {
   "cell_type": "code",
   "execution_count": 13,
   "metadata": {},
   "outputs": [],
   "source": [
    "student = Student()\n",
    "student.name = '이경환'\n",
    "student.age = 27\n",
    "student.email = 'khrock1@gmail.com'\n",
    "student.github_id = 'kyunghwanleethebest'\n",
    "student.save()"
   ]
  },
  {
   "cell_type": "code",
   "execution_count": 4,
   "metadata": {},
   "outputs": [],
   "source": [
    "student = Student(name='박준영', email='pakkyst@gmail.com', age=29, github_id='pakkyst')\n",
    "student.save()"
   ]
  },
  {
   "cell_type": "code",
   "execution_count": 6,
   "metadata": {},
   "outputs": [],
   "source": [
    "# .objects.create() 는 자동으로 save 가 내포되어 있다. \n",
    "student = Student.objects.create(name='박민기', email='minkishome@gmail.com', age=29, github_id='minkishome')"
   ]
  },
  {
   "cell_type": "code",
   "execution_count": null,
   "metadata": {},
   "outputs": [],
   "source": [
    "# Read(Retrive) 조회"
   ]
  },
  {
   "cell_type": "code",
   "execution_count": 15,
   "metadata": {},
   "outputs": [
    {
     "name": "stdout",
     "output_type": "stream",
     "text": [
      "수경 최솔지 26\n"
     ]
    }
   ],
   "source": [
    "# id 로 조회하기 \n",
    "s1 = Student.objects.get(id=1)\n",
    "s2 = Student.objects.get(id=2)  # 없는 id 를 적으면 에러가 발생\n",
    "s3 = Student.objects.get(name='문다혜')\n",
    "print(s1.name, s2.name, s3.age)"
   ]
  },
  {
   "cell_type": "code",
   "execution_count": null,
   "metadata": {},
   "outputs": [],
   "source": [
    "# Update (하나를 잡아서 특정 값을 수정하고 저장한다.)"
   ]
  },
  {
   "cell_type": "code",
   "execution_count": 11,
   "metadata": {},
   "outputs": [],
   "source": [
    "# 하나를 잡아서\n",
    "s1 = Student.objects.get(id=1)\n",
    "# 특정 값을 수정하고 \n",
    "s1.age = 20\n",
    "# 저장한다. \n",
    "s1.save()"
   ]
  },
  {
   "cell_type": "code",
   "execution_count": null,
   "metadata": {},
   "outputs": [],
   "source": [
    "# Delete (Destory) => 하나를 잡아서 (행을) 삭제한다. "
   ]
  },
  {
   "cell_type": "code",
   "execution_count": 12,
   "metadata": {},
   "outputs": [
    {
     "data": {
      "text/plain": [
       "(1, {'students.Student': 1})"
      ]
     },
     "execution_count": 12,
     "metadata": {},
     "output_type": "execute_result"
    }
   ],
   "source": [
    "# 하나를 잡아서\n",
    "s5 = Student.objects.get(id=5)\n",
    "# 삭제한다. \n",
    "s5.delete()"
   ]
  },
  {
   "cell_type": "code",
   "execution_count": null,
   "metadata": {},
   "outputs": [],
   "source": [
    "# 삭제한 후 새로 추가하게 되면 id 값이 다시 5로 배정되는 것이 아니라 id=6 으로 배정된다. "
   ]
  },
  {
   "cell_type": "code",
   "execution_count": null,
   "metadata": {},
   "outputs": [],
   "source": []
  }
 ],
 "metadata": {
  "kernelspec": {
   "display_name": "Django Shell-Plus",
   "language": "python",
   "name": "django_extensions"
  },
  "language_info": {
   "codemirror_mode": {
    "name": "ipython",
    "version": 3
   },
   "file_extension": ".py",
   "mimetype": "text/x-python",
   "name": "python",
   "nbconvert_exporter": "python",
   "pygments_lexer": "ipython3",
   "version": "3.7.3"
  }
 },
 "nbformat": 4,
 "nbformat_minor": 2
}
