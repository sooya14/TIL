{
 "cells": [
  {
   "cell_type": "markdown",
   "metadata": {},
   "source": [
    "# Function Input / Output / 재귀\n",
    "\n",
    "## output"
   ]
  },
  {
   "cell_type": "code",
   "execution_count": null,
   "metadata": {},
   "outputs": [],
   "source": [
    "# 1. output 이 없다. == return 이 없다. \n",
    "def yes_in_no_out(string, number):\n",
    "    pass\n",
    "\n"
   ]
  },
  {
   "cell_type": "code",
   "execution_count": 2,
   "metadata": {},
   "outputs": [
    {
     "data": {
      "text/plain": [
       "[4, 3, 2, 1]"
      ]
     },
     "execution_count": 2,
     "metadata": {},
     "output_type": "execute_result"
    }
   ],
   "source": [
    "def sort_and_reverse(input_list):\n",
    "    input_list.sort()\n",
    "    input_list.reverse()\n",
    "    \n",
    "a = [2, 4, 1, 3]\n",
    "\n",
    "sort_and_reverse(a)\n",
    "\n",
    "a"
   ]
  },
  {
   "cell_type": "code",
   "execution_count": 5,
   "metadata": {},
   "outputs": [
    {
     "name": "stdout",
     "output_type": "stream",
     "text": [
      "[2, 4, 1, 3]\n",
      "[4, 3, 2, 1]\n"
     ]
    }
   ],
   "source": [
    "import copy\n",
    "\n",
    "def sort_and_reverse(origin):\n",
    "    copy_list = copy.deepcopy(origin)\n",
    "    copy_list.sort()\n",
    "    copy_list.reverse()\n",
    "    return copy_list\n",
    "    \n",
    "a = [2, 4, 1, 3]\n",
    "\n",
    "result = sort_and_reverse(a)\n",
    "\n",
    "print(a)\n",
    "print(result)"
   ]
  },
  {
   "cell_type": "code",
   "execution_count": 9,
   "metadata": {},
   "outputs": [
    {
     "name": "stdout",
     "output_type": "stream",
     "text": [
      "[4, 3, 2, 1]\n",
      "None\n"
     ]
    }
   ],
   "source": [
    "def sort_and_reverse(input_list):\n",
    "    input_list.sort()\n",
    "    input_list.reverse()\n",
    "    return None\n",
    "    \n",
    "a = [2, 4, 1, 3]\n",
    "\n",
    "n = sort_and_reverse(a)\n",
    "\n",
    "print(a)\n",
    "print(n)"
   ]
  },
  {
   "cell_type": "code",
   "execution_count": null,
   "metadata": {},
   "outputs": [],
   "source": [
    "def no_in_no_out():\n",
    "    pass"
   ]
  },
  {
   "cell_type": "code",
   "execution_count": 15,
   "metadata": {},
   "outputs": [],
   "source": [
    "from datetime import datetime\n",
    "\n",
    "def print_now():\n",
    "    n = datetime.now()\n",
    "    print(n.strtime('%y - %m - %d | %H%M%S'))\n",
    "    "
   ]
  },
  {
   "cell_type": "code",
   "execution_count": 16,
   "metadata": {},
   "outputs": [
    {
     "ename": "AttributeError",
     "evalue": "'datetime.datetime' object has no attribute 'strtime'",
     "output_type": "error",
     "traceback": [
      "\u001b[1;31m---------------------------------------------------------------------------\u001b[0m",
      "\u001b[1;31mAttributeError\u001b[0m                            Traceback (most recent call last)",
      "\u001b[1;32m<ipython-input-16-24033b00ff16>\u001b[0m in \u001b[0;36m<module>\u001b[1;34m\u001b[0m\n\u001b[1;32m----> 1\u001b[1;33m \u001b[0mprint_now\u001b[0m\u001b[1;33m(\u001b[0m\u001b[1;33m)\u001b[0m\u001b[1;33m\u001b[0m\u001b[1;33m\u001b[0m\u001b[0m\n\u001b[0m",
      "\u001b[1;32m<ipython-input-15-b0b1df5bd9ce>\u001b[0m in \u001b[0;36mprint_now\u001b[1;34m()\u001b[0m\n\u001b[0;32m      3\u001b[0m \u001b[1;32mdef\u001b[0m \u001b[0mprint_now\u001b[0m\u001b[1;33m(\u001b[0m\u001b[1;33m)\u001b[0m\u001b[1;33m:\u001b[0m\u001b[1;33m\u001b[0m\u001b[1;33m\u001b[0m\u001b[0m\n\u001b[0;32m      4\u001b[0m     \u001b[0mn\u001b[0m \u001b[1;33m=\u001b[0m \u001b[0mdatetime\u001b[0m\u001b[1;33m.\u001b[0m\u001b[0mnow\u001b[0m\u001b[1;33m(\u001b[0m\u001b[1;33m)\u001b[0m\u001b[1;33m\u001b[0m\u001b[1;33m\u001b[0m\u001b[0m\n\u001b[1;32m----> 5\u001b[1;33m     \u001b[0mprint\u001b[0m\u001b[1;33m(\u001b[0m\u001b[0mn\u001b[0m\u001b[1;33m.\u001b[0m\u001b[0mstrtime\u001b[0m\u001b[1;33m(\u001b[0m\u001b[1;34m'%y - %m - %d | %H%M%S'\u001b[0m\u001b[1;33m)\u001b[0m\u001b[1;33m)\u001b[0m\u001b[1;33m\u001b[0m\u001b[1;33m\u001b[0m\u001b[0m\n\u001b[0m\u001b[0;32m      6\u001b[0m \u001b[1;33m\u001b[0m\u001b[0m\n",
      "\u001b[1;31mAttributeError\u001b[0m: 'datetime.datetime' object has no attribute 'strtime'"
     ]
    }
   ],
   "source": [
    "print_now()"
   ]
  },
  {
   "cell_type": "markdown",
   "metadata": {},
   "source": [
    "## Input"
   ]
  },
  {
   "cell_type": "code",
   "execution_count": 1,
   "metadata": {},
   "outputs": [
    {
     "name": "stdout",
     "output_type": "stream",
     "text": [
      "a-b-c-d-e\n"
     ]
    }
   ],
   "source": [
    "print('a', 'b', 'c', 'd', 'e', sep='-')"
   ]
  },
  {
   "cell_type": "code",
   "execution_count": 3,
   "metadata": {},
   "outputs": [],
   "source": [
    "def my_print(*args):  # 몇개가 들어올지 모르겠는데, 다 받아줘야 할 떄 => *args\n",
    "\n",
    "    pass\n",
    "    "
   ]
  },
  {
   "cell_type": "code",
   "execution_count": 10,
   "metadata": {},
   "outputs": [],
   "source": [
    "def my_add(*args):  # 몇개 인지 모르지만 , 걍 여러개가 ',' 로 나눠서 들어올거야. //이름은 사람을 위해서 잘 짓는 것 \n",
    "    return sum(args)  # 그러면 나는 다 묶어서 tuple 만들거야"
   ]
  },
  {
   "cell_type": "code",
   "execution_count": 12,
   "metadata": {},
   "outputs": [
    {
     "data": {
      "text/plain": [
       "103"
      ]
     },
     "execution_count": 12,
     "metadata": {},
     "output_type": "execute_result"
    }
   ],
   "source": [
    "my_add(1, 2, 100)  # => 튜플로 나온다. "
   ]
  },
  {
   "cell_type": "code",
   "execution_count": 16,
   "metadata": {},
   "outputs": [
    {
     "name": "stdout",
     "output_type": "stream",
     "text": [
      "{'a': 1, 'b': 2, 'c': 3, 'd': 4}\n"
     ]
    },
    {
     "data": {
      "text/plain": [
       "{'a': 1, 'b': 2, 'c': 3, 'd': 4}"
      ]
     },
     "execution_count": 16,
     "metadata": {},
     "output_type": "execute_result"
    }
   ],
   "source": [
    "def make_dict(**kwargs):  # 몇 개인지 모르겠지만, k=v 행태로, 여러개가 들어올거야  \n",
    "    print(kwargs)  # 그러면 나는 다 묶어서 내맘대로 dict 만들거야. \n",
    "    return kwargs\n",
    "    \n",
    "make_dict(a=1, b=2, c=3, d=4)"
   ]
  },
  {
   "cell_type": "markdown",
   "metadata": {},
   "source": [
    "# Recursive (재귀함수)\n",
    "## base case : 끝나야합니다. \n",
    "while 문으로 power 을 구현하고 옮기자. "
   ]
  },
  {
   "cell_type": "code",
   "execution_count": null,
   "metadata": {},
   "outputs": [],
   "source": [
    "# x 의 n 거듭제곱 구하기 == x ** n \n",
    "\n",
    "def power(x, n):\n",
    "    result = 1\n",
    "    while n > 0:\n",
    "        result = result * x\n",
    "        n = n - 1\n",
    "    return result\n",
    "\n",
    "power(2, 3)  # power(2, 2) * 2 == power(2, 1) * 2 * 2 == 2 * 2 * 2\n",
    "# n: 3 result: 2\n",
    "    # n: 2 result 4\n",
    "    # n 1 r 8\n",
    "    # n 0"
   ]
  },
  {
   "cell_type": "code",
   "execution_count": 20,
   "metadata": {},
   "outputs": [
    {
     "data": {
      "text/plain": [
       "32"
      ]
     },
     "execution_count": 20,
     "metadata": {},
     "output_type": "execute_result"
    }
   ],
   "source": [
    "def power(x, n):\n",
    "    if n == 0:\n",
    "        return 1  # 탈출 조건\n",
    "    return 2 * power(x, n-1)\n",
    "\n",
    "\n",
    "power(2, 5)"
   ]
  },
  {
   "cell_type": "code",
   "execution_count": null,
   "metadata": {},
   "outputs": [],
   "source": [
    "# 팩토리얼, n 제곱, 피보나치"
   ]
  },
  {
   "cell_type": "code",
   "execution_count": null,
   "metadata": {},
   "outputs": [],
   "source": []
  },
  {
   "cell_type": "code",
   "execution_count": null,
   "metadata": {},
   "outputs": [],
   "source": []
  }
 ],
 "metadata": {
  "kernelspec": {
   "display_name": "Python 3",
   "language": "python",
   "name": "python3"
  },
  "language_info": {
   "codemirror_mode": {
    "name": "ipython",
    "version": 3
   },
   "file_extension": ".py",
   "mimetype": "text/x-python",
   "name": "python",
   "nbconvert_exporter": "python",
   "pygments_lexer": "ipython3",
   "version": "3.7.3"
  }
 },
 "nbformat": 4,
 "nbformat_minor": 2
}
