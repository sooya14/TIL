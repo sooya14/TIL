{
 "cells": [
  {
   "cell_type": "markdown",
   "metadata": {},
   "source": [
    "# 190730"
   ]
  },
  {
   "cell_type": "markdown",
   "metadata": {},
   "source": [
    "## Loop\n",
    "* break\n",
    "* "
   ]
  },
  {
   "cell_type": "code",
   "execution_count": 1,
   "metadata": {},
   "outputs": [
    {
     "name": "stdout",
     "output_type": "stream",
     "text": [
      "0\n",
      "1\n",
      "2\n",
      "3\n",
      "4\n",
      "5\n",
      "6\n"
     ]
    }
   ],
   "source": [
    "# for break\n",
    "for i in range(10):  # 처음부터 끝까지 순차적으로 돈다. \n",
    "    if i == 7:\n",
    "        break\n",
    "    print(i)"
   ]
  },
  {
   "cell_type": "code",
   "execution_count": 4,
   "metadata": {},
   "outputs": [
    {
     "name": "stdout",
     "output_type": "stream",
     "text": [
      "find it\n"
     ]
    }
   ],
   "source": [
    "# while break\n",
    "my_list = [1, 2, 3, 4, 5]\n",
    "\n",
    "find_it = False\n",
    "idx = 0\n",
    "while not find_it:\n",
    "    if my_list[idx] == 4:\n",
    "        print('find it')\n",
    "        find_it = True\n",
    "    idx += 1\n",
    "    "
   ]
  },
  {
   "cell_type": "code",
   "execution_count": null,
   "metadata": {},
   "outputs": [],
   "source": [
    "# while break\n",
    "my_list = [1, 2, 3, 4, 5]\n",
    "\n",
    "find_it = False\n",
    "idx = 0\n",
    "while not find_it:\n",
    "    if my_list[idx] == 4:\n",
    "        find_it = True\n",
    "    idx += 1\n",
    "    "
   ]
  },
  {
   "cell_type": "code",
   "execution_count": 5,
   "metadata": {},
   "outputs": [],
   "source": [
    "some_list = [\n",
    "    '이번주 점심메뉴',  # 넘길거야 == continue\n",
    "    '비빔밥', \n",
    "    '부대찌개', \n",
    "    '파스타', \n",
    "    '삼계탕',\n",
    "]"
   ]
  },
  {
   "cell_type": "code",
   "execution_count": 11,
   "metadata": {},
   "outputs": [
    {
     "name": "stdout",
     "output_type": "stream",
     "text": [
      "비빔밥\n",
      "부대찌개\n",
      "파스타\n",
      "삼계탕\n"
     ]
    }
   ],
   "source": [
    "for idx, line in enumerate(some_list):  # => (index, element)\n",
    "    if not idx == 0:\n",
    "        print(line)  # index 가 0이 아닐때만 print"
   ]
  },
  {
   "cell_type": "code",
   "execution_count": 10,
   "metadata": {},
   "outputs": [
    {
     "name": "stdout",
     "output_type": "stream",
     "text": [
      "비빔밥\n",
      "부대찌개\n",
      "파스타\n",
      "삼계탕\n"
     ]
    }
   ],
   "source": [
    "for idx, line in enumerate(some_list):  # => (index, element)\n",
    "    if idx == 0:\n",
    "        continue  # index 가 0이면, 다음회차로 넘어가라.\n",
    "    print(line)  # line 출력"
   ]
  },
  {
   "cell_type": "code",
   "execution_count": 12,
   "metadata": {},
   "outputs": [
    {
     "name": "stdout",
     "output_type": "stream",
     "text": [
      "비빔밥\n",
      "부대찌개\n",
      "파스타\n",
      "삼계탕\n"
     ]
    }
   ],
   "source": [
    "idx = 0\n",
    "while idx < len(some_list):\n",
    "    if idx == 0:\n",
    "        idx += 1\n",
    "        continue\n",
    "    print(some_list[idx])\n",
    "    idx += 1"
   ]
  },
  {
   "cell_type": "code",
   "execution_count": null,
   "metadata": {},
   "outputs": [
    {
     "name": "stdout",
     "output_type": "stream",
     "text": [
      "이번주 점심메뉴\n"
     ]
    }
   ],
   "source": [
    "idx = 0\n",
    "while idx < len(some_list):\n",
    "    if idx == 0:\n",
    "        print(some_list[idx])\n",
    "        idx += 1"
   ]
  },
  {
   "cell_type": "markdown",
   "metadata": {},
   "source": [
    "## break, continue 중첩"
   ]
  },
  {
   "cell_type": "code",
   "execution_count": 16,
   "metadata": {},
   "outputs": [
    {
     "ename": "IndentationError",
     "evalue": "unindent does not match any outer indentation level (<tokenize>, line 8)",
     "output_type": "error",
     "traceback": [
      "\u001b[1;36m  File \u001b[1;32m\"<tokenize>\"\u001b[1;36m, line \u001b[1;32m8\u001b[0m\n\u001b[1;33m    print(f'k: {k}', end=' ')\u001b[0m\n\u001b[1;37m    ^\u001b[0m\n\u001b[1;31mIndentationError\u001b[0m\u001b[1;31m:\u001b[0m unindent does not match any outer indentation level\n"
     ]
    }
   ],
   "source": [
    "for i in range(3):\n",
    "    print(f'i: {i}', end=' ')\n",
    "    for j in range(3):\n",
    "        print(f'j: {j}', end=' ')\n",
    "        for k in range(3):\n",
    "             if k % 2 == 1:\n",
    "                    break\n",
    "            print(f'k: {k}', end=' ')\n",
    "           "
   ]
  },
  {
   "cell_type": "code",
   "execution_count": null,
   "metadata": {},
   "outputs": [],
   "source": [
    "flag1 = True\n",
    "flag2 = True\n",
    "flag3 = True\n",
    "\n",
    "while flag1:\n",
    "    while flag2:\n",
    "        while flag3:\n",
    "            if True:\n",
    "                flag1 = False"
   ]
  },
  {
   "cell_type": "code",
   "execution_count": null,
   "metadata": {},
   "outputs": [],
   "source": []
  },
  {
   "cell_type": "code",
   "execution_count": null,
   "metadata": {},
   "outputs": [],
   "source": []
  },
  {
   "cell_type": "code",
   "execution_count": null,
   "metadata": {},
   "outputs": [],
   "source": []
  },
  {
   "cell_type": "code",
   "execution_count": null,
   "metadata": {},
   "outputs": [],
   "source": []
  },
  {
   "cell_type": "code",
   "execution_count": null,
   "metadata": {},
   "outputs": [],
   "source": []
  },
  {
   "cell_type": "code",
   "execution_count": null,
   "metadata": {},
   "outputs": [],
   "source": []
  }
 ],
 "metadata": {
  "kernelspec": {
   "display_name": "Python 3",
   "language": "python",
   "name": "python3"
  },
  "language_info": {
   "codemirror_mode": {
    "name": "ipython",
    "version": 3
   },
   "file_extension": ".py",
   "mimetype": "text/x-python",
   "name": "python",
   "nbconvert_exporter": "python",
   "pygments_lexer": "ipython3",
   "version": "3.7.3"
  }
 },
 "nbformat": 4,
 "nbformat_minor": 2
}
